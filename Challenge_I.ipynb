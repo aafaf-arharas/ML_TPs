{
  "cells": [
    {
      "cell_type": "markdown",
      "metadata": {
        "id": "view-in-github",
        "colab_type": "text"
      },
      "source": [
        "<a href=\"https://colab.research.google.com/github/aafaf-arharas/ML_TPs/blob/main/Challenge_I.ipynb\" target=\"_parent\"><img src=\"https://colab.research.google.com/assets/colab-badge.svg\" alt=\"Open In Colab\"/></a>"
      ]
    },
    {
      "cell_type": "markdown",
      "metadata": {
        "id": "1cNOQG-RNFCQ"
      },
      "source": [
        "# Challenge Deep Learning"
      ]
    },
    {
      "cell_type": "markdown",
      "metadata": {
        "id": "om4bxcF3IYGY"
      },
      "source": [
        "## **Contexte**"
      ]
    },
    {
      "cell_type": "markdown",
      "metadata": {
        "id": "CWbLrG8NIqmA"
      },
      "source": [
        "L'objectif de ce challenge est de proposer une méthode de classification, basée sur des réseaux de neurones, permettant de classer des images issues de Google Quickdraw (https://quickdraw.withgoogle.com/data). Le jeu de données proposé comprend 5 classes balancées, avec 15000 exemples d'apprentissage et 5000 exemples de validation : des paniers, des yeux, des lunettes, des lapins et des mains."
      ]
    },
    {
      "cell_type": "markdown",
      "metadata": {
        "id": "C3NOTB3ScPsl"
      },
      "source": [
        "##**Méthodologie suivie**"
      ]
    },
    {
      "cell_type": "markdown",
      "metadata": {
        "id": "Tvi1aDfgLVAg"
      },
      "source": [
        "On a décidé pour ce challenge d'appliquer le modèle Convolutionnal Neural Networks (CNN) de 9 couches,  ils comportent deux parties. La première partie d’un CNN est la partie convolutive qui fonctionne comme un extracteur de caractéristiques des images. Une image est passée à travers une succession de filtres, ou noyaux de convolution, créant de nouvelles images appelées cartes de convolutions. Au final, ces cartes de convolutions sont mises à plat et concaténées en un vecteur de caractéristiques, appelé code CNN.\n",
        "Ce code CNN en sortie de la partie convolutive représentera ensuite l'entrée d’une deuxième partie, constituée de couches entièrement connectées qui sert à combiner les caractéristiques du code CNN pour classer l’image.\n"
      ]
    },
    {
      "cell_type": "markdown",
      "metadata": {
        "id": "MNkLoubrozjG"
      },
      "source": [
        "Afin de former le modèle CNN, on va suivre les étapes de base suivantes pour construire le modèle de classification d'images.\n",
        "\n",
        "*   Importer les images d'entrées nécessaires pour l'entrainement et la validation et les transformer en matrice de pixels\n",
        "*   Normaliser les valeurs des pixels de l'image (diviser par 255)\n",
        "*   Construire une architecture modèle (séquentiel) avec différentes couches \n",
        "\n",
        "*   Entraîner le modèle\n",
        "\n",
        "\n",
        "\n",
        "\n",
        "\n",
        "\n"
      ]
    },
    {
      "cell_type": "markdown",
      "metadata": {
        "id": "tzgpAw5sNFCk"
      },
      "source": [
        "#Importation des bibliothèques"
      ]
    },
    {
      "cell_type": "code",
      "execution_count": null,
      "metadata": {
        "id": "iCTSHW5MNFCo"
      },
      "outputs": [],
      "source": [
        "import tensorflow\n",
        "import pandas as pd\n",
        "import numpy as np\n",
        "import time\n",
        "from PIL import Image\n",
        "import glob\n",
        "import matplotlib.pyplot as plt\n",
        "%matplotlib inline\n",
        "import os\n",
        "import cv2 \n",
        "from tensorflow.keras.preprocessing.image import img_to_array, load_img, ImageDataGenerator\n",
        "from tensorflow.keras.utils import to_categorical\n",
        "from keras import layers\n",
        "from tensorflow.keras.optimizers import Adam\n",
        "from sklearn.model_selection import train_test_split\n",
        "from keras.callbacks import ModelCheckpoint\n"
      ]
    },
    {
      "cell_type": "markdown",
      "metadata": {
        "id": "oRwtBFDWNFCu"
      },
      "source": [
        "# Préparation des données"
      ]
    },
    {
      "cell_type": "markdown",
      "metadata": {
        "id": "MJpWhuY0czBp"
      },
      "source": [
        "Vu que le dossiers images qui contient les images pour l'entrainement et la validation du modèle est volumineux, on a décidé finalement de l'importer à travers du drive pour optimiser le temps de l'importation des donnée"
      ]
    },
    {
      "cell_type": "code",
      "execution_count": null,
      "metadata": {
        "colab": {
          "base_uri": "https://localhost:8080/"
        },
        "id": "aQzhYGprzSmF",
        "outputId": "f5aee6ad-935d-4727-89e9-a559e3340704"
      },
      "outputs": [
        {
          "output_type": "stream",
          "name": "stdout",
          "text": [
            "Drive already mounted at /content/drive; to attempt to forcibly remount, call drive.mount(\"/content/drive\", force_remount=True).\n"
          ]
        }
      ],
      "source": [
        "from google.colab import drive\n",
        "drive.mount('/content/drive')"
      ]
    },
    {
      "cell_type": "code",
      "execution_count": null,
      "metadata": {
        "id": "YoQ2dcxNlJjf"
      },
      "outputs": [],
      "source": [
        "!unzip \"/content/drive/MyDrive/examDL/Data_Train_Valid.zip\""
      ]
    },
    {
      "cell_type": "markdown",
      "metadata": {
        "id": "BrIGS-DDfQrx"
      },
      "source": [
        "##Paramètres liés aux données"
      ]
    },
    {
      "cell_type": "code",
      "execution_count": null,
      "metadata": {
        "id": "-T8iscTvNFCw"
      },
      "outputs": [],
      "source": [
        "classes = [\"basket\",\"eye\",\"binoculars\",\"rabbit\",\"hand\"]\n",
        "train = pd.read_csv('/content/drive/MyDrive/examDL/train.csv')\n",
        "valid = pd.read_csv('/content/drive/MyDrive/examDL/valid.csv')\n",
        "\n",
        "img_shape = (28, 28, 3)\n",
        "img_size = img_shape[:2]\n",
        "num_classes = 5"
      ]
    },
    {
      "cell_type": "markdown",
      "metadata": {
        "id": "AAEdDgVdWp3U"
      },
      "source": [
        "## Visualisation de données\n",
        "\n",
        "\n"
      ]
    },
    {
      "cell_type": "code",
      "execution_count": null,
      "metadata": {
        "colab": {
          "base_uri": "https://localhost:8080/",
          "height": 540
        },
        "id": "6bHsumedNFCz",
        "outputId": "67a14dab-29f4-4acf-b013-50e0fea1816a"
      },
      "outputs": [
        {
          "output_type": "display_data",
          "data": {
            "image/png": "[encoded data removed]",
            "text/plain": [
              "<Figure size 1296x648 with 5 Axes>"
            ]
          },
          "metadata": {
            "needs_background": "light"
          }
        }
      ],
      "source": [
        "plt.figure(figsize=(18,9))\n",
        "for i in range(0,5):\n",
        "    ax= plt.subplot(3,2 ,i+1)\n",
        "    mydata = pd.read_csv(\"train.csv\",skiprows = [1], nrows=1)\n",
        "    im = Image.open('images/'+classes[i]+'/'+ os.listdir(\"images/\"+classes[i])[0])\n",
        "    fig=ax.imshow(im)\n",
        "    plt.title(classes[i])\n",
        "    fig.axes.get_xaxis().set_visible(False)\n",
        "    fig.axes.get_yaxis().set_visible(False)\n",
        "plt.show()    \n"
      ]
    },
    {
      "cell_type": "markdown",
      "metadata": {
        "id": "C4Uqog_vWYqm"
      },
      "source": [
        "## Chargement des données "
      ]
    },
    {
      "cell_type": "markdown",
      "metadata": {
        "id": "7eIfKgKKfkoB"
      },
      "source": [
        "Pour appliquer un modèle CNN sur nos images, il nous faut en entrée, des images sous la forme d’une matrice de pixels de 2 dimensions pour une image en niveaux de gris, la couleur est représentée par une troisième dimension, de profondeur 3 pour représenter les couleurs fondamentales [Rouge, Vert, Bleu].\n",
        "Pour cela on a définit la fontion get_data qui à partir des fichiers csv train et valid parcours le dossier images pour récuperer toutes les images et les transformer en matrice de pixels pour la suite."
      ]
    },
    {
      "cell_type": "code",
      "execution_count": null,
      "metadata": {
        "id": "m-ofq6vOqDdP"
      },
      "outputs": [],
      "source": [
        "def get_data(train, valid, img_size):\n",
        "  \n",
        "    xtrain = []  \n",
        "    ytrain = train['class_label']\n",
        "    x_valid = []\n",
        "    y_valid= valid['class_label']\n",
        "\n",
        "    for imgt in 'images/'+train['relative_path'] :\n",
        "        try:\n",
        "          img_t = load_img(imgt, target_size=img_size)\n",
        "          img_arr_t = img_to_array(img_t)\n",
        "          xtrain.append(img_arr_t)\n",
        "        except Exception as e:\n",
        "          print(e)\n",
        "   \n",
        "    x_train, x_test, y_train, y_test= train_test_split(xtrain, ytrain, test_size=0.15, random_state=42)\n",
        "\n",
        "    for imgv in 'images/'+valid['relative_path'] : \n",
        "       try:\n",
        "          img_v = load_img(imgv, target_size=img_size)\n",
        "          img_arr_v = img_to_array(img_v)\n",
        "          x_valid.append(img_arr_v)\n",
        "       except Exception as e:\n",
        "          print(e)\n",
        "    \n",
        "    \n",
        "    return x_train, y_train, x_valid, y_valid, x_test, y_test"
      ]
    },
    {
      "cell_type": "code",
      "execution_count": null,
      "metadata": {
        "id": "MPJeNuvF8aba"
      },
      "outputs": [],
      "source": [
        "x_train, y_train, x_valid, y_valid, x_test, y_test= get_data(train, valid, img_size)"
      ]
    },
    {
      "cell_type": "markdown",
      "metadata": {
        "id": "prsLvvO9Wj7c"
      },
      "source": [
        "## Prétraitement des données\n"
      ]
    },
    {
      "cell_type": "code",
      "execution_count": null,
      "metadata": {
        "colab": {
          "base_uri": "https://localhost:8080/"
        },
        "id": "8txavU1jW7Zv",
        "outputId": "3b533cc0-fd22-4ea5-a436-72eb7b5ddec3"
      },
      "outputs": [
        {
          "output_type": "stream",
          "name": "stdout",
          "text": [
            "Train shapes      : (63750, 28, 28, 3) (63750, 5)\n",
            "Valid shapes      : (25000, 28, 28, 3) (25000, 5)\n"
          ]
        }
      ],
      "source": [
        "# Normalisation des données\n",
        "X_train = np.array(x_train) / 255\n",
        "X_valid = np.array(x_valid) / 255\n",
        "X_test = np.array(x_test) / 255\n",
        "\n",
        "# Convertir les vecters en matrices \n",
        "Y_train = tensorflow.keras.utils.to_categorical(y_train, num_classes)\n",
        "Y_valid = tensorflow.keras.utils.to_categorical(y_valid, num_classes)\n",
        "Y_test = tensorflow.keras.utils.to_categorical(y_test, num_classes)\n",
        "\n",
        "#test\n",
        "print('Train shapes      :',X_train.shape, Y_train.shape)\n",
        "print('Valid shapes      :',X_valid.shape, Y_valid.shape)\n"
      ]
    },
    {
      "cell_type": "markdown",
      "metadata": {
        "id": "4xDdaBJIC91E"
      },
      "source": [
        "# Mise en place du modèle"
      ]
    },
    {
      "cell_type": "markdown",
      "source": [
        "## Paramètres du modèle"
      ],
      "metadata": {
        "id": "wq62C1iCcSJl"
      }
    },
    {
      "cell_type": "code",
      "source": [
        "num_epochs = 30 # 20\n",
        "batch_size = 256 #128\n",
        "filepath = '/content/drive/MyDrive/examDL/Challenge_AAFAF_HIBA.h5' #path where to save the model"
      ],
      "metadata": {
        "id": "m4REz_mpcSgZ"
      },
      "execution_count": null,
      "outputs": []
    },
    {
      "cell_type": "markdown",
      "metadata": {
        "id": "xIPG_ECqGooR"
      },
      "source": [
        "## Définition du modèle (CNN)"
      ]
    },
    {
      "cell_type": "code",
      "execution_count": null,
      "metadata": {
        "id": "uX-QIu-WC2Zu"
      },
      "outputs": [],
      "source": [
        "def MyModel(input_shape):\n",
        "\n",
        "  model = tensorflow.keras.Sequential()\n",
        "  model.add(layers.Convolution2D(16, (3, 3),\n",
        "                          padding='same',\n",
        "                          input_shape=input_shape, activation='relu'))\n",
        "  model.add(layers.MaxPooling2D(pool_size=(2, 2)))\n",
        "  model.add(layers.Convolution2D(32, (3, 3), padding='same', activation= 'relu'))\n",
        "  model.add(layers.MaxPooling2D(pool_size=(2, 2)))\n",
        "  model.add(layers.Convolution2D(64, (3, 3), padding='same', activation= 'relu'))\n",
        "  model.add(layers.MaxPooling2D(pool_size =(2,2)))\n",
        "  model.add(layers.Flatten())\n",
        "  model.add(layers.Dense(128, activation='relu'))\n",
        "  model.add(layers.Dense(100, activation='relu')) \n",
        "  model.add(layers.Dense(5, activation='softmax')) \n",
        "\n",
        "  # Compile model\n",
        "  model.compile(loss='categorical_crossentropy',\n",
        "              optimizer='Adam',\n",
        "              metrics=['accuracy'])\n",
        "    \n",
        "  model.summary()\n",
        "\n",
        "  return model"
      ]
    },
    {
      "cell_type": "code",
      "execution_count": null,
      "metadata": {
        "colab": {
          "base_uri": "https://localhost:8080/"
        },
        "id": "a1NBjglKDwZd",
        "outputId": "4e41b7d1-0440-4202-80f9-ade576c2dab9"
      },
      "outputs": [
        {
          "output_type": "stream",
          "name": "stdout",
          "text": [
            "Model: \"sequential\"\n",
            "_________________________________________________________________\n",
            " Layer (type)                Output Shape              Param #   \n",
            "=================================================================\n",
            " conv2d (Conv2D)             (None, 28, 28, 16)        448       \n",
            "                                                                 \n",
            " max_pooling2d (MaxPooling2D  (None, 14, 14, 16)       0         \n",
            " )                                                               \n",
            "                                                                 \n",
            " conv2d_1 (Conv2D)           (None, 14, 14, 32)        4640      \n",
            "                                                                 \n",
            " max_pooling2d_1 (MaxPooling  (None, 7, 7, 32)         0         \n",
            " 2D)                                                             \n",
            "                                                                 \n",
            " conv2d_2 (Conv2D)           (None, 7, 7, 64)          18496     \n",
            "                                                                 \n",
            " max_pooling2d_2 (MaxPooling  (None, 3, 3, 64)         0         \n",
            " 2D)                                                             \n",
            "                                                                 \n",
            " flatten (Flatten)           (None, 576)               0         \n",
            "                                                                 \n",
            " dense (Dense)               (None, 128)               73856     \n",
            "                                                                 \n",
            " dense_1 (Dense)             (None, 100)               12900     \n",
            "                                                                 \n",
            " dense_2 (Dense)             (None, 5)                 505       \n",
            "                                                                 \n",
            "=================================================================\n",
            "Total params: 110,845\n",
            "Trainable params: 110,845\n",
            "Non-trainable params: 0\n",
            "_________________________________________________________________\n"
          ]
        }
      ],
      "source": [
        "model = MyModel(input_shape=X_train.shape[1:]) #img_shape"
      ]
    },
    {
      "cell_type": "markdown",
      "metadata": {
        "id": "Qu4_RKe0F6dA"
      },
      "source": [
        "#Entrainement et Sauvegarde du modèle"
      ]
    },
    {
      "cell_type": "markdown",
      "source": [
        "\n",
        "> Pour enregistrer la meilleure version du modèle on utilise les callbachs\n",
        "\n",
        "\n"
      ],
      "metadata": {
        "id": "zFba87sEc6nK"
      }
    },
    {
      "cell_type": "code",
      "execution_count": null,
      "metadata": {
        "id": "EhhwHuxAuSAW",
        "colab": {
          "base_uri": "https://localhost:8080/"
        },
        "outputId": "95be0eb7-330b-47c1-cbf5-fbb79542e83a"
      },
      "outputs": [
        {
          "output_type": "stream",
          "name": "stdout",
          "text": [
            "Epoch 1/30\n",
            "\n",
            "Epoch 00001: val_loss improved from inf to 0.39156, saving model to /content/drive/MyDrive/examDL/Challenge_AAFAF_HIBA.h5\n",
            "250/250 - 13s - loss: 0.5028 - accuracy: 0.8338 - val_loss: 0.3916 - val_accuracy: 0.8713 - 13s/epoch - 53ms/step\n",
            "Epoch 2/30\n",
            "\n",
            "Epoch 00002: val_loss improved from 0.39156 to 0.37066, saving model to /content/drive/MyDrive/examDL/Challenge_AAFAF_HIBA.h5\n",
            "250/250 - 2s - loss: 0.2827 - accuracy: 0.9093 - val_loss: 0.3707 - val_accuracy: 0.8755 - 2s/epoch - 8ms/step\n",
            "Epoch 3/30\n",
            "\n",
            "Epoch 00003: val_loss improved from 0.37066 to 0.22772, saving model to /content/drive/MyDrive/examDL/Challenge_AAFAF_HIBA.h5\n",
            "250/250 - 2s - loss: 0.2326 - accuracy: 0.9241 - val_loss: 0.2277 - val_accuracy: 0.9237 - 2s/epoch - 8ms/step\n",
            "Epoch 4/30\n",
            "\n",
            "Epoch 00004: val_loss improved from 0.22772 to 0.20533, saving model to /content/drive/MyDrive/examDL/Challenge_AAFAF_HIBA.h5\n",
            "250/250 - 2s - loss: 0.1897 - accuracy: 0.9372 - val_loss: 0.2053 - val_accuracy: 0.9313 - 2s/epoch - 7ms/step\n",
            "Epoch 5/30\n",
            "\n",
            "Epoch 00005: val_loss improved from 0.20533 to 0.18527, saving model to /content/drive/MyDrive/examDL/Challenge_AAFAF_HIBA.h5\n",
            "250/250 - 2s - loss: 0.1683 - accuracy: 0.9448 - val_loss: 0.1853 - val_accuracy: 0.9372 - 2s/epoch - 8ms/step\n",
            "Epoch 6/30\n",
            "\n",
            "Epoch 00006: val_loss did not improve from 0.18527\n",
            "250/250 - 2s - loss: 0.1526 - accuracy: 0.9487 - val_loss: 0.2078 - val_accuracy: 0.9310 - 2s/epoch - 8ms/step\n",
            "Epoch 7/30\n",
            "\n",
            "Epoch 00007: val_loss did not improve from 0.18527\n",
            "250/250 - 2s - loss: 0.1449 - accuracy: 0.9511 - val_loss: 0.2527 - val_accuracy: 0.9163 - 2s/epoch - 8ms/step\n",
            "Epoch 8/30\n",
            "\n",
            "Epoch 00008: val_loss did not improve from 0.18527\n",
            "250/250 - 2s - loss: 0.1340 - accuracy: 0.9548 - val_loss: 0.1925 - val_accuracy: 0.9358 - 2s/epoch - 7ms/step\n",
            "Epoch 9/30\n",
            "\n",
            "Epoch 00009: val_loss improved from 0.18527 to 0.17817, saving model to /content/drive/MyDrive/examDL/Challenge_AAFAF_HIBA.h5\n",
            "250/250 - 2s - loss: 0.1217 - accuracy: 0.9590 - val_loss: 0.1782 - val_accuracy: 0.9413 - 2s/epoch - 8ms/step\n",
            "Epoch 10/30\n",
            "\n",
            "Epoch 00010: val_loss did not improve from 0.17817\n",
            "250/250 - 2s - loss: 0.1061 - accuracy: 0.9636 - val_loss: 0.1873 - val_accuracy: 0.9385 - 2s/epoch - 7ms/step\n",
            "Epoch 11/30\n",
            "\n",
            "Epoch 00011: val_loss improved from 0.17817 to 0.17561, saving model to /content/drive/MyDrive/examDL/Challenge_AAFAF_HIBA.h5\n",
            "250/250 - 2s - loss: 0.0972 - accuracy: 0.9668 - val_loss: 0.1756 - val_accuracy: 0.9433 - 2s/epoch - 8ms/step\n",
            "Epoch 12/30\n",
            "\n",
            "Epoch 00012: val_loss improved from 0.17561 to 0.17532, saving model to /content/drive/MyDrive/examDL/Challenge_AAFAF_HIBA.h5\n",
            "250/250 - 2s - loss: 0.0868 - accuracy: 0.9699 - val_loss: 0.1753 - val_accuracy: 0.9444 - 2s/epoch - 7ms/step\n",
            "Epoch 13/30\n",
            "\n",
            "Epoch 00013: val_loss did not improve from 0.17532\n",
            "250/250 - 2s - loss: 0.0816 - accuracy: 0.9715 - val_loss: 0.1808 - val_accuracy: 0.9455 - 2s/epoch - 7ms/step\n",
            "Epoch 14/30\n",
            "\n",
            "Epoch 00014: val_loss did not improve from 0.17532\n",
            "250/250 - 2s - loss: 0.0727 - accuracy: 0.9742 - val_loss: 0.2407 - val_accuracy: 0.9333 - 2s/epoch - 7ms/step\n",
            "Epoch 15/30\n",
            "\n",
            "Epoch 00015: val_loss did not improve from 0.17532\n",
            "250/250 - 2s - loss: 0.0756 - accuracy: 0.9744 - val_loss: 0.1930 - val_accuracy: 0.9468 - 2s/epoch - 7ms/step\n",
            "Epoch 16/30\n",
            "\n",
            "Epoch 00016: val_loss did not improve from 0.17532\n",
            "250/250 - 2s - loss: 0.0572 - accuracy: 0.9806 - val_loss: 0.2242 - val_accuracy: 0.9416 - 2s/epoch - 7ms/step\n",
            "Epoch 17/30\n",
            "\n",
            "Epoch 00017: val_loss did not improve from 0.17532\n",
            "250/250 - 2s - loss: 0.0522 - accuracy: 0.9818 - val_loss: 0.2038 - val_accuracy: 0.9459 - 2s/epoch - 7ms/step\n",
            "Epoch 18/30\n",
            "\n",
            "Epoch 00018: val_loss did not improve from 0.17532\n",
            "250/250 - 2s - loss: 0.0461 - accuracy: 0.9837 - val_loss: 0.2145 - val_accuracy: 0.9464 - 2s/epoch - 7ms/step\n",
            "Epoch 19/30\n",
            "\n",
            "Epoch 00019: val_loss did not improve from 0.17532\n",
            "250/250 - 2s - loss: 0.0399 - accuracy: 0.9859 - val_loss: 0.2342 - val_accuracy: 0.9457 - 2s/epoch - 7ms/step\n",
            "Epoch 20/30\n",
            "\n",
            "Epoch 00020: val_loss did not improve from 0.17532\n",
            "250/250 - 2s - loss: 0.0385 - accuracy: 0.9864 - val_loss: 0.2416 - val_accuracy: 0.9423 - 2s/epoch - 7ms/step\n",
            "Epoch 21/30\n",
            "\n",
            "Epoch 00021: val_loss did not improve from 0.17532\n",
            "250/250 - 2s - loss: 0.0335 - accuracy: 0.9880 - val_loss: 0.2591 - val_accuracy: 0.9430 - 2s/epoch - 8ms/step\n",
            "Epoch 22/30\n",
            "\n",
            "Epoch 00022: val_loss did not improve from 0.17532\n",
            "250/250 - 2s - loss: 0.0339 - accuracy: 0.9878 - val_loss: 0.2604 - val_accuracy: 0.9447 - 2s/epoch - 7ms/step\n",
            "Epoch 23/30\n",
            "\n",
            "Epoch 00023: val_loss did not improve from 0.17532\n",
            "250/250 - 2s - loss: 0.0319 - accuracy: 0.9884 - val_loss: 0.2992 - val_accuracy: 0.9404 - 2s/epoch - 7ms/step\n",
            "Epoch 24/30\n",
            "\n",
            "Epoch 00024: val_loss did not improve from 0.17532\n",
            "250/250 - 2s - loss: 0.0250 - accuracy: 0.9912 - val_loss: 0.2966 - val_accuracy: 0.9431 - 2s/epoch - 7ms/step\n",
            "Epoch 25/30\n",
            "\n",
            "Epoch 00025: val_loss did not improve from 0.17532\n",
            "250/250 - 2s - loss: 0.0231 - accuracy: 0.9921 - val_loss: 0.4471 - val_accuracy: 0.9206 - 2s/epoch - 7ms/step\n",
            "Epoch 26/30\n",
            "\n",
            "Epoch 00026: val_loss did not improve from 0.17532\n",
            "250/250 - 2s - loss: 0.0538 - accuracy: 0.9817 - val_loss: 0.2773 - val_accuracy: 0.9462 - 2s/epoch - 7ms/step\n",
            "Epoch 27/30\n",
            "\n",
            "Epoch 00027: val_loss did not improve from 0.17532\n",
            "250/250 - 2s - loss: 0.0181 - accuracy: 0.9935 - val_loss: 0.3105 - val_accuracy: 0.9464 - 2s/epoch - 8ms/step\n",
            "Epoch 28/30\n",
            "\n",
            "Epoch 00028: val_loss did not improve from 0.17532\n",
            "250/250 - 2s - loss: 0.0143 - accuracy: 0.9951 - val_loss: 0.3233 - val_accuracy: 0.9438 - 2s/epoch - 7ms/step\n",
            "Epoch 29/30\n",
            "\n",
            "Epoch 00029: val_loss did not improve from 0.17532\n",
            "250/250 - 2s - loss: 0.0164 - accuracy: 0.9945 - val_loss: 0.3445 - val_accuracy: 0.9462 - 2s/epoch - 7ms/step\n",
            "Epoch 30/30\n",
            "\n",
            "Epoch 00030: val_loss did not improve from 0.17532\n",
            "250/250 - 2s - loss: 0.0130 - accuracy: 0.9955 - val_loss: 0.3410 - val_accuracy: 0.9436 - 2s/epoch - 8ms/step\n"
          ]
        }
      ],
      "source": [
        "#create callback\n",
        "checkpoint = ModelCheckpoint(filepath=filepath, \n",
        "                             monitor='val_loss',\n",
        "                             verbose=2, \n",
        "                             save_best_only=True,\n",
        "                             mode='min')\n",
        "callbacks = [checkpoint]\n",
        "\n",
        "#fit the model\n",
        "history = model.fit(X_train,\n",
        "                  Y_train,\n",
        "                  batch_size=batch_size,\n",
        "                  epochs=num_epochs,\n",
        "                  verbose=2,\n",
        "                  validation_data=(X_valid, Y_valid),\n",
        "                  callbacks=callbacks,\n",
        "                  use_multiprocessing=True)\n"
      ]
    },
    {
      "cell_type": "markdown",
      "metadata": {
        "id": "VU8s-p8kiyc0"
      },
      "source": [
        "#Evaluation du modèle\n"
      ]
    },
    {
      "cell_type": "code",
      "execution_count": null,
      "metadata": {
        "colab": {
          "base_uri": "https://localhost:8080/",
          "height": 449
        },
        "id": "2txM1vlWZq2J",
        "outputId": "228eb245-1f17-44ea-9f6f-ea73e2b74744"
      },
      "outputs": [
        {
          "output_type": "display_data",
          "data": {
            "image/png": "[encoded data removed]",
            "text/plain": [
              "<Figure size 1080x1080 with 2 Axes>"
            ]
          },
          "metadata": {
            "needs_background": "light"
          }
        }
      ],
      "source": [
        "acc = history.history['accuracy']\n",
        "val_acc = history.history['val_accuracy']\n",
        "loss = history.history['loss']\n",
        "val_loss = history.history['val_loss']\n",
        "\n",
        "\n",
        "plt.figure(figsize=(15, 15))\n",
        "plt.subplot(2, 2, 1)\n",
        "plt.plot(acc, label='Training Accuracy')\n",
        "plt.plot(val_acc, label='Validation Accuracy')\n",
        "plt.legend(loc='lower right')\n",
        "plt.title('Training and Validation Accuracy')\n",
        "plt.xlabel('Epochs')\n",
        "plt.ylabel('Accuracy')\n",
        "\n",
        "plt.subplot(2, 2, 2)\n",
        "plt.plot(loss, label='Training Loss')\n",
        "plt.plot(val_loss, label='Validation Loss')\n",
        "plt.legend(loc='upper right')\n",
        "plt.title('Training and Validation Loss')\n",
        "plt.xlabel('Epochs')\n",
        "plt.ylabel('Loss')\n",
        "\n",
        "plt.savefig('model_training_history')\n",
        "plt.show()"
      ]
    },
    {
      "cell_type": "code",
      "source": [
        "#Load and evaluate the best model version\n",
        "from tensorflow.keras.models import load_model \n",
        "\n",
        "model = load_model(filepath)\n",
        "\n",
        "model.summary()\n",
        "\n",
        "score = model.evaluate(X_test, Y_test, verbose=1)\n",
        "print('Test loss: {:0.2f}%, Test accuracy: {:0.2f}% '.format(score[0]*100,score[1]*100) )\n"
      ],
      "metadata": {
        "colab": {
          "base_uri": "https://localhost:8080/"
        },
        "id": "NaK2JofkeEos",
        "outputId": "4a75b741-1aec-4eeb-eed0-1cb5fbe9e9d7"
      },
      "execution_count": 24,
      "outputs": [
        {
          "output_type": "stream",
          "name": "stdout",
          "text": [
            "Model: \"sequential\"\n",
            "_________________________________________________________________\n",
            " Layer (type)                Output Shape              Param #   \n",
            "=================================================================\n",
            " conv2d (Conv2D)             (None, 28, 28, 16)        448       \n",
            "                                                                 \n",
            " max_pooling2d (MaxPooling2D  (None, 14, 14, 16)       0         \n",
            " )                                                               \n",
            "                                                                 \n",
            " conv2d_1 (Conv2D)           (None, 14, 14, 32)        4640      \n",
            "                                                                 \n",
            " max_pooling2d_1 (MaxPooling  (None, 7, 7, 32)         0         \n",
            " 2D)                                                             \n",
            "                                                                 \n",
            " conv2d_2 (Conv2D)           (None, 7, 7, 64)          18496     \n",
            "                                                                 \n",
            " max_pooling2d_2 (MaxPooling  (None, 3, 3, 64)         0         \n",
            " 2D)                                                             \n",
            "                                                                 \n",
            " flatten (Flatten)           (None, 576)               0         \n",
            "                                                                 \n",
            " dense (Dense)               (None, 128)               73856     \n",
            "                                                                 \n",
            " dense_1 (Dense)             (None, 100)               12900     \n",
            "                                                                 \n",
            " dense_2 (Dense)             (None, 5)                 505       \n",
            "                                                                 \n",
            "=================================================================\n",
            "Total params: 110,845\n",
            "Trainable params: 110,845\n",
            "Non-trainable params: 0\n",
            "_________________________________________________________________\n",
            "352/352 [==============================] - 3s 6ms/step - loss: 0.1819 - accuracy: 0.9448\n",
            "Test loss: 18.19%, Test accuracy: 94.48% \n"
          ]
        }
      ]
    },
    {
      "cell_type": "markdown",
      "metadata": {
        "id": "JpBoSZZMi7On"
      },
      "source": [
        "La sortie de notre modèle CNN est une dernière couche comportant un neurone par catégorie. Les valeurs obtenues sont normalisées entre 0 et 1, de somme 1, elles représentent une distribution de probabilité sur les catégories.\n",
        "Avec ce modèle, on a eu une précision de 92,26%.\n",
        "On va essayer par la suite de tester ce modèle sur des données tests qu'on va avoir en divisant les données d'entrainement.\n"
      ]
    },
    {
      "cell_type": "markdown",
      "metadata": {
        "id": "yTTS5RKRnjmx"
      },
      "source": [
        "#Conclusion"
      ]
    },
    {
      "cell_type": "markdown",
      "metadata": {
        "id": "u0lgmTwbnoTX"
      },
      "source": [
        "Il s'est avéré que ce modèle CNN semble adapté à ce type de classification, il est robuste, optimal et donne une précision de de 93% avec 15000 images ce qui est plûtot bien.\n",
        "\n",
        "\n"
      ]
    }
  ],
  "metadata": {
    "accelerator": "GPU",
    "colab": {
      "collapsed_sections": [
        "1cNOQG-RNFCQ",
        "oRwtBFDWNFCu",
        "BrIGS-DDfQrx",
        "AAEdDgVdWp3U",
        "C4Uqog_vWYqm",
        "prsLvvO9Wj7c"
      ],
      "name": "Challenge_I.ipynb",
      "provenance": [],
      "include_colab_link": true
    },
    "kernelspec": {
      "display_name": "kernel_english_courses",
      "name": "kernel"
    },
    "language_info": {
      "codemirror_mode": {
        "name": "ipython",
        "version": 3
      },
      "file_extension": ".py",
      "mimetype": "text/x-python",
      "name": "python",
      "nbconvert_exporter": "python",
      "pygments_lexer": "ipython3",
      "version": "3.8.6-final"
    }
  },
  "nbformat": 4,
  "nbformat_minor": 0
}