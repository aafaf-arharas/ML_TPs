{
  "nbformat": 4,
  "nbformat_minor": 0,
  "metadata": {
    "accelerator": "TPU",
    "colab": {
      "name": "00-notebook intro TF2-Keras.ipynb",
      "provenance": [],
      "collapsed_sections": [],
      "include_colab_link": true
    },
    "kernelspec": {
      "display_name": "Python 3.8.5 64-bit",
      "language": "python",
      "name": "python_defaultSpec_1596131626063"
    },
    "language_info": {
      "codemirror_mode": {
        "name": "ipython",
        "version": 3
      },
      "file_extension": ".py",
      "mimetype": "text/x-python",
      "name": "python",
      "nbconvert_exporter": "python",
      "pygments_lexer": "ipython3",
      "version": "3.8.5-final"
    }
  },
  "cells": [
    {
      "cell_type": "markdown",
      "metadata": {
        "id": "view-in-github",
        "colab_type": "text"
      },
      "source": [
        "<a href=\"https://colab.research.google.com/github/aafaf-arharas/ML_TPs/blob/main/00_notebook_intro_TF2_Keras.ipynb\" target=\"_parent\"><img src=\"https://colab.research.google.com/assets/colab-badge.svg\" alt=\"Open In Colab\"/></a>"
      ]
    },
    {
      "cell_type": "code",
      "metadata": {
        "colab": {
          "background_save": true,
          "base_uri": "https://localhost:8080/"
        },
        "id": "W15eefa2Q5hA",
        "outputId": "feca8da5-9836-4848-a0fc-2eddc89e42f2"
      },
      "source": [
        "import tensorflow as tf\n",
        "print(tf.__version__)"
      ],
      "execution_count": null,
      "outputs": [
        {
          "name": "stdout",
          "output_type": "stream",
          "text": [
            "2.6.0\n"
          ]
        }
      ]
    },
    {
      "cell_type": "markdown",
      "metadata": {
        "id": "zoDjozMFREDU"
      },
      "source": [
        "Les versions de TensorFlow 1.X et de Keras (avant intégration à Tensorflow) n'étaient pas nécessairement faciles à manipuler :\n",
        "- utilisation de graphes de flux de données (TF)\n",
        "- manque de flexibilité (Keras)\n",
        "\n",
        "La version 2.x (2.3 au 01/08/2020) repense complètement le paradigme de programmation de Tensorlow, et la flexibilité de Keras. La programmation TF se fait de manière \"classique\" (à la Numpy), mais conserve les avantages de l'utilisation de graphes de flux de données. Keras devient l'API haut niveau de Tensorflow.\n"
      ]
    },
    {
      "cell_type": "markdown",
      "metadata": {
        "id": "U71NYDeFkUhq"
      },
      "source": [
        "# 1- Tensorflow"
      ]
    },
    {
      "cell_type": "markdown",
      "metadata": {
        "id": "l2e8-qrcl2kH"
      },
      "source": [
        "## Tenseurs\n",
        "Les tenseurs sont des matrices n-dimensionnelles\n",
        "\n",
        "<img src=\"tenseurs.png\" alt=\"\" width=\"500\"/>\n"
      ]
    },
    {
      "cell_type": "markdown",
      "metadata": {
        "id": "PX6JvH4h0zyY"
      },
      "source": [
        "### Tenseurs [constants](https://www.tensorflow.org/api_docs/python/tf/constant)"
      ]
    },
    {
      "cell_type": "code",
      "metadata": {
        "colab": {
          "base_uri": "https://localhost:8080/"
        },
        "id": "pGB6GDsfRFJs",
        "outputId": "fb19c224-4b10-4615-9f2c-833a9ff9aad0"
      },
      "source": [
        "x = tf.constant([[5, 2], [1, 3]])\n",
        "print(x)\n",
        "print('Valeur du tenseur :',x.numpy())\n",
        "print('Type des données :', x.dtype)\n",
        "print('Taille du tenseur :', x.shape)\n",
        "print(\"\\nTenseurs constants particuliers\")\n",
        "print(tf.ones(shape=(2, 1)))\n",
        "print(tf.zeros(shape=(2, 1)))\n",
        "print(\"\\nTenseur constant suivant une loi normale\")\n",
        "print(tf.random.normal(shape=(2, 2), mean=0., stddev=1.))\n",
        "print(\"\\nTenseur constant suivant une loi uniforme\")\n",
        "print(tf.random.uniform(shape=(2, 2), minval=0, maxval=10, dtype='int32'))\n",
        "\n"
      ],
      "execution_count": null,
      "outputs": [
        {
          "name": "stdout",
          "output_type": "stream",
          "text": [
            "tf.Tensor(\n",
            "[[5 2]\n",
            " [1 3]], shape=(2, 2), dtype=int32)\n",
            "Valeur du tenseur : [[5 2]\n",
            " [1 3]]\n",
            "Type des données : <dtype: 'int32'>\n",
            "Taille du tenseur : (2, 2)\n",
            "\n",
            "Tenseurs constants particuliers\n",
            "tf.Tensor(\n",
            "[[1.]\n",
            " [1.]], shape=(2, 1), dtype=float32)\n",
            "tf.Tensor(\n",
            "[[0.]\n",
            " [0.]], shape=(2, 1), dtype=float32)\n",
            "\n",
            "Tenseur constant suivant une loi normale\n",
            "tf.Tensor(\n",
            "[[-0.01954025  2.0707676 ]\n",
            " [-0.47966263  1.0695186 ]], shape=(2, 2), dtype=float32)\n",
            "\n",
            "Tenseur constant suivant une loi uniforme\n",
            "tf.Tensor(\n",
            "[[0 7]\n",
            " [3 5]], shape=(2, 2), dtype=int32)\n"
          ]
        }
      ]
    },
    {
      "cell_type": "markdown",
      "metadata": {
        "id": "I95066exmbDU"
      },
      "source": [
        "### Variables\n",
        "Les [variables](https://www.tensorflow.org/guide/variable) sont des tenseurs particuliers, permettant de stocker des variables amenées à changer (les poids et biais des réseaux de neurones par exemple"
      ]
    },
    {
      "cell_type": "code",
      "metadata": {
        "colab": {
          "base_uri": "https://localhost:8080/"
        },
        "id": "8FvENXmBmcyT",
        "outputId": "5eb6a44f-0ac4-4866-9055-df655452ab34"
      },
      "source": [
        "v0 = tf.random.normal(shape=(2, 2))\n",
        "a = tf.Variable(v0)\n",
        "print(a)"
      ],
      "execution_count": null,
      "outputs": [
        {
          "name": "stdout",
          "output_type": "stream",
          "text": [
            "<tf.Variable 'Variable:0' shape=(2, 2) dtype=float32, numpy=\n",
            "array([[-0.03426833, -0.85295236],\n",
            "       [-0.64162886, -1.6059163 ]], dtype=float32)>\n"
          ]
        }
      ]
    },
    {
      "cell_type": "markdown",
      "metadata": {
        "id": "YRFwVySi3biu"
      },
      "source": [
        "La mise à jour des variables s'effectue à l'aide des méthodes `.assign(value)`, ou `.assign_add(increment)` ou `.assign_sub(decrement)`:"
      ]
    },
    {
      "cell_type": "code",
      "metadata": {
        "colab": {
          "base_uri": "https://localhost:8080/"
        },
        "id": "EOCsCNvc3mNR",
        "outputId": "01bb314b-1db6-4b0d-e3f2-e93f2d739338"
      },
      "source": [
        "v1 = tf.random.normal(shape=(2, 2))\n",
        "a.assign(v1)\n"
      ],
      "execution_count": null,
      "outputs": [
        {
          "data": {
            "text/plain": [
              "<tf.Variable 'UnreadVariable' shape=(2, 2) dtype=float32, numpy=\n",
              "array([[ 2.2436204 ,  0.71641415],\n",
              "       [ 0.7086044 , -0.4349614 ]], dtype=float32)>"
            ]
          },
          "execution_count": 5,
          "metadata": {},
          "output_type": "execute_result"
        }
      ]
    },
    {
      "cell_type": "code",
      "metadata": {
        "colab": {
          "base_uri": "https://localhost:8080/"
        },
        "id": "xrSjwl_056j8",
        "outputId": "764f1e07-6005-4a12-c071-02de0f7f2091"
      },
      "source": [
        "v2 = tf.random.normal(shape=(2, 2))\n",
        "a.assign_add(v2)"
      ],
      "execution_count": null,
      "outputs": [
        {
          "data": {
            "text/plain": [
              "<tf.Variable 'UnreadVariable' shape=(2, 2) dtype=float32, numpy=\n",
              "array([[ 1.0966715 ,  1.8911941 ],\n",
              "       [ 0.77055335, -1.7175611 ]], dtype=float32)>"
            ]
          },
          "execution_count": 6,
          "metadata": {},
          "output_type": "execute_result"
        }
      ]
    },
    {
      "cell_type": "markdown",
      "metadata": {
        "id": "rAIqYQmOl_wR"
      },
      "source": [
        "### Opérations sur les tenseurs\n",
        "Les opérations s'effectuent comme avec NumPy. La seule différence étant que le code peut s'exécuter sur GPU et TPU"
      ]
    },
    {
      "cell_type": "code",
      "metadata": {
        "colab": {
          "base_uri": "https://localhost:8080/"
        },
        "id": "pCZGHQ_XmHuZ",
        "outputId": "9956c4bb-e225-4d92-e47a-df8e9eadafb8"
      },
      "source": [
        "a = tf.random.normal(shape=(2, 2))\n",
        "b = tf.random.normal(shape=(2, 2))\n",
        "\n",
        "c = a + b\n",
        "d = tf.square(c)\n",
        "e = tf.exp(d)\n",
        "\n",
        "print(a,b,c,d,e)"
      ],
      "execution_count": null,
      "outputs": [
        {
          "name": "stdout",
          "output_type": "stream",
          "text": [
            "tf.Tensor(\n",
            "[[0.2327153  0.48638374]\n",
            " [2.8005493  1.3387324 ]], shape=(2, 2), dtype=float32) tf.Tensor(\n",
            "[[-0.22495928 -0.76261586]\n",
            " [ 0.36687887 -0.286038  ]], shape=(2, 2), dtype=float32) tf.Tensor(\n",
            "[[ 0.00775601 -0.27623212]\n",
            " [ 3.167428    1.0526943 ]], shape=(2, 2), dtype=float32) tf.Tensor(\n",
            "[[6.0155686e-05 7.6304182e-02]\n",
            " [1.0032600e+01 1.1081654e+00]], shape=(2, 2), dtype=float32) tf.Tensor(\n",
            "[[1.0000602e+00 1.0792909e+00]\n",
            " [2.2756371e+04 3.0287967e+00]], shape=(2, 2), dtype=float32)\n"
          ]
        }
      ]
    },
    {
      "cell_type": "markdown",
      "metadata": {
        "id": "5Feq3qWoBVQW"
      },
      "source": [
        "## Gradients et dérivées d'ordre supérieur\n",
        "TensorFlow permet de calculer de manière automatique, à l'aide de [`GradientTape`](https://www.tensorflow.org/api_docs/python/tf/GradientTape), le gradient de toute fonction différentiable. "
      ]
    },
    {
      "cell_type": "code",
      "metadata": {
        "colab": {
          "base_uri": "https://localhost:8080/"
        },
        "id": "FkEAY45IBjPv",
        "outputId": "ff523368-3948-4605-fe6e-db8913ae98a0"
      },
      "source": [
        "a = tf.random.normal(shape=(2, 2))\n",
        "b = tf.random.normal(shape=(2, 2))\n",
        "\n",
        "# Utilisation d'un gradient Tape\n",
        "with tf.GradientTape() as tape:\n",
        "  tape.watch(a)  # On garde en mémoire les opérations réalisées sur `a`\n",
        "  f = tf.sqrt(tf.square(a) + tf.square(b))  \n",
        "  # On cherche le gradient de f par rapport à a\n",
        "  df_da = tape.gradient(f, a)\n",
        "  print(df_da)"
      ],
      "execution_count": null,
      "outputs": [
        {
          "name": "stdout",
          "output_type": "stream",
          "text": [
            "tf.Tensor(\n",
            "[[ 0.3290918  -0.9978523 ]\n",
            " [-0.04534012  0.24092354]], shape=(2, 2), dtype=float32)\n"
          ]
        }
      ]
    },
    {
      "cell_type": "markdown",
      "metadata": {
        "id": "W8UpqFx_DDbV"
      },
      "source": [
        "Par défaut, les variables sont mémorisées automatiquement"
      ]
    },
    {
      "cell_type": "code",
      "metadata": {
        "colab": {
          "base_uri": "https://localhost:8080/"
        },
        "id": "OtH3FuvDDOAY",
        "outputId": "ef38a02c-a1fe-4a30-d85e-f279e036a6fe"
      },
      "source": [
        "a = tf.Variable(a)\n",
        "\n",
        "with tf.GradientTape() as tape:\n",
        "  f = tf.sqrt(tf.square(a) + tf.square(b))\n",
        "  df_da = tape.gradient(f, a)\n",
        "  print(df_da)"
      ],
      "execution_count": null,
      "outputs": [
        {
          "name": "stdout",
          "output_type": "stream",
          "text": [
            "tf.Tensor(\n",
            "[[ 0.3290918  -0.9978523 ]\n",
            " [-0.04534012  0.24092354]], shape=(2, 2), dtype=float32)\n"
          ]
        }
      ]
    },
    {
      "cell_type": "markdown",
      "metadata": {
        "id": "dFlBGjuEDbt-"
      },
      "source": [
        "Les dérivées d'ordre supérieur se calculent par application itérée de GradientTape:"
      ]
    },
    {
      "cell_type": "code",
      "metadata": {
        "colab": {
          "base_uri": "https://localhost:8080/",
          "height": 68
        },
        "id": "cjPcY0OIDhEA",
        "outputId": "b4e9fb66-6dac-4b4f-b11f-9853c8668382"
      },
      "source": [
        "with tf.GradientTape() as outer_tape:\n",
        "  with tf.GradientTape() as tape:\n",
        "    f = tf.sqrt(tf.square(a) + tf.square(b))\n",
        "    df_da = tape.gradient(f, a)\n",
        "  d2f_da2 = outer_tape.gradient(df_da, a)\n",
        "  print(d2f_da2)"
      ],
      "execution_count": null,
      "outputs": [
        {
          "name": "stdout",
          "output_type": "stream",
          "text": [
            "tf.Tensor(\n",
            "[[0.17243034 0.00300026]\n",
            " [0.00591475 0.85263574]], shape=(2, 2), dtype=float32)\n"
          ]
        }
      ]
    },
    {
      "cell_type": "markdown",
      "metadata": {
        "id": "KC5RgwGeBP-9"
      },
      "source": [
        "## Tutorial"
      ]
    },
    {
      "cell_type": "markdown",
      "metadata": {
        "id": "Owbx4mlEErNN"
      },
      "source": [
        "Pour illustrer le traitement d'un problème complet sous Tensorflow 2.x, nous nous intéressons au cas de la classification linéaire et n'utilisons que des méthodes simples de Tensorflow (une résolution plus directe de ce problème peut être envisagée en utilisant des fonctions haut niveau de Tensorflow ou même Keras).\n",
        "On  considère un problème de  classification linéaire dans $\\mathbb{R}^2$ avec une fonction de décision de la forme $w^Tx + b$. Les paramètres $w$ et $b$ sont appris à l'aide d'une descente de gradient sur un minibatch.\n"
      ]
    },
    {
      "cell_type": "code",
      "metadata": {
        "colab": {
          "base_uri": "https://localhost:8080/",
          "height": 320
        },
        "id": "M_XQuzKI2pHc",
        "outputId": "4cd26787-9f0f-4d65-cf46-b26bf4cb4e0a"
      },
      "source": [
        "import numpy as np\n",
        "import random\n",
        "import time\n",
        "import matplotlib.pyplot as plt\n",
        "%matplotlib inline\n",
        "\n",
        "# Génération de données : deux classes, loi normale multivariée centrée en (0,4) et (2,0), de même matrices de covariance.\n",
        "num_samples = 10000\n",
        "classe0 = np.random.multivariate_normal(mean=[0, 2.5], cov=[[1, 1.5],[0.5, 1]], size=num_samples)\n",
        "classe1 = np.random.multivariate_normal(mean=[2, 0], cov=[[1, 0.5],[0.5, 1]], size=num_samples)\n",
        "features = np.vstack((classe0, classe1)).astype(np.float32)\n",
        "labels = np.vstack((np.zeros((num_samples, 1), dtype='float32'),np.ones((num_samples, 1), dtype='float32')))\n",
        "indices = np.random.permutation(len(features))\n",
        "features = features[indices]\n",
        "labels = labels[indices]\n",
        "\n",
        "plt.scatter(features[:, 0], features[:, 1], c=labels[:, 0])"
      ],
      "execution_count": null,
      "outputs": [
        {
          "name": "stderr",
          "output_type": "stream",
          "text": [
            "/usr/local/lib/python3.7/dist-packages/ipykernel_launcher.py:9: RuntimeWarning: covariance is not positive-semidefinite.\n",
            "  if __name__ == '__main__':\n"
          ]
        },
        {
          "data": {
            "text/plain": [
              "<matplotlib.collections.PathCollection at 0x7fba97c3d690>"
            ]
          },
          "execution_count": 1,
          "metadata": {},
          "output_type": "execute_result"
        },
        {
          "data": {
            "image/png": "[encoded data removed]",
            "text/plain": [
              "<Figure size 432x288 with 1 Axes>"
            ]
          },
          "metadata": {},
          "output_type": "display_data"
        }
      ]
    },
    {
      "cell_type": "code",
      "metadata": {
        "id": "Uhitqoj2FH8U"
      },
      "source": [
        "input_dim = 2\n",
        "output_dim = 1\n",
        "learning_rate = 0.01\n",
        "batch_size = 256\n",
        "num_epochs = 20\n",
        "\n",
        "# vecteur de poids\n",
        "w = tf.Variable(tf.random.uniform(shape=(input_dim, output_dim)))\n",
        "# biais\n",
        "b = tf.Variable(tf.zeros(shape=(output_dim,)))\n",
        "\n",
        "# Entraînement par minibatch par descente de gradient\n",
        "def BatchTraining(x, y):\n",
        "  with tf.GradientTape() as tape:\n",
        "    # Calcul de la valeur prédite par le modèle\n",
        "    predictions = tf.matmul(x, w) + b\n",
        "    # Erreur quadratique moyenne\n",
        "    loss = tf.reduce_mean(tf.square(y - predictions))\n",
        "    # Descente de gradient\n",
        "    dloss_dw, dloss_db = tape.gradient(loss, [w, b])\n",
        "  w.assign_sub(learning_rate * dloss_dw)\n",
        "  b.assign_sub(learning_rate * dloss_db)\n",
        "  return loss"
      ],
      "execution_count": null,
      "outputs": []
    },
    {
      "cell_type": "code",
      "metadata": {
        "colab": {
          "base_uri": "https://localhost:8080/"
        },
        "id": "YsHszjjaJDQZ",
        "outputId": "e60b0efd-fb42-416d-e8b5-fe323a54b073"
      },
      "source": [
        "# Utilisation d'un objet tf.data.Dataset pour une manipulation plus facile des itérations de l'entraînement\n",
        "dataset = tf.data.Dataset.from_tensor_slices((features, labels))\n",
        "dataset = dataset.shuffle(buffer_size=1024).batch(batch_size)\n",
        "\n",
        "t0 = time.time()\n",
        "for epoch in range(num_epochs):\n",
        "  for step, (x, y) in enumerate(dataset):\n",
        "    loss = BatchTraining(x, y)\n",
        "t_end = time.time() - t0\n",
        "print('Temps par epoch: %.3f s' % (t_end / num_epochs,))\n"
      ],
      "execution_count": null,
      "outputs": [
        {
          "name": "stdout",
          "output_type": "stream",
          "text": [
            "Temps par epoch: 0.182 s\n"
          ]
        }
      ]
    },
    {
      "cell_type": "code",
      "metadata": {
        "colab": {
          "base_uri": "https://localhost:8080/",
          "height": 283
        },
        "id": "oBPYQpskJxxT",
        "outputId": "c52f82c9-83ee-4d80-8724-6aaf1b9f7339"
      },
      "source": [
        "# Test du modèle sur les données (on n'utilise pas ici d'ensemble de test, on regarde juste pour illustration le comportement du modèle sur les donnnées)\n",
        "predictions = tf.matmul(features, w) + b\n",
        "plt.scatter(features[:, 0], features[:, 1], c=predictions[:, 0] > 0.5)"
      ],
      "execution_count": null,
      "outputs": [
        {
          "data": {
            "text/plain": [
              "<matplotlib.collections.PathCollection at 0x7fba4478fdd0>"
            ]
          },
          "execution_count": 6,
          "metadata": {},
          "output_type": "execute_result"
        },
        {
          "data": {
            "image/png": "[encoded data removed]",
            "text/plain": [
              "<Figure size 432x288 with 1 Axes>"
            ]
          },
          "metadata": {},
          "output_type": "display_data"
        }
      ]
    },
    {
      "cell_type": "markdown",
      "metadata": {
        "id": "kHsvPqyRN_E3"
      },
      "source": [
        "Le code précédent n'utilise pas le graphe de flux de données, proposé par Tensorflow. Or cette structure permet d'accélerer les traitements. Pour illustrer ce fait, on compile la fonction d'entraînement dans un graphe. Tensorflow permet cette compilation simplement en ajoutant le décorateur `tf.function`  "
      ]
    },
    {
      "cell_type": "code",
      "metadata": {
        "id": "oEYFkThcOGcg"
      },
      "source": [
        "@tf.function\n",
        "def BatchTraining(x, y):\n",
        "  with tf.GradientTape() as tape:\n",
        "    # Calcul de la valeur prédite par le modèle\n",
        "    predictions = tf.matmul(x, w) + b\n",
        "    # Erreur quadratique moyenne\n",
        "    loss = tf.reduce_mean(tf.square(y - predictions))\n",
        "    # Descente de gradient\n",
        "    dloss_dw, dloss_db = tape.gradient(loss, [w, b])\n",
        "  w.assign_sub(learning_rate * dloss_dw)\n",
        "  b.assign_sub(learning_rate * dloss_db)\n",
        "  return loss"
      ],
      "execution_count": null,
      "outputs": []
    },
    {
      "cell_type": "code",
      "metadata": {
        "colab": {
          "base_uri": "https://localhost:8080/",
          "height": 34
        },
        "id": "KT2w6DVmONB5",
        "outputId": "a4907f30-15f5-46a1-8c9c-05b559ac4b44"
      },
      "source": [
        "t0 = time.time()\n",
        "for epoch in range(num_epochs):\n",
        "  for step, (x, y) in enumerate(dataset):\n",
        "    loss = BatchTraining(x, y)\n",
        "t_end = time.time() - t0\n",
        "print('Time per epoch: %.3f s' % (t_end / num_epochs,))"
      ],
      "execution_count": null,
      "outputs": [
        {
          "name": "stdout",
          "output_type": "stream",
          "text": [
            "Time per epoch: 0.059 s\n"
          ]
        }
      ]
    },
    {
      "cell_type": "markdown",
      "metadata": {
        "id": "B3I3v_FqjFty"
      },
      "source": [
        "# 2 Keras\n",
        "\n",
        "Keras est une API Python permettant un prototypage rapide d’applications de deep learning."
      ]
    },
    {
      "cell_type": "markdown",
      "metadata": {
        "id": "o9DSVjdHPkOw"
      },
      "source": [
        "## La classe `Layer`\n",
        "\n",
        "La classe [`Layer`](https://www.tensorflow.org/api_docs/python/tf/keras/layers/Layer) est la classe de base de Keras, qui encapsulate un état (les poids et biais) et des possiblités de calculs (définies dans la méthode `call`). Pour effectuer le calcul $w^Tx + b$ précédent, on construit une classe dérivée de la classe `Layer`"
      ]
    },
    {
      "cell_type": "code",
      "metadata": {
        "id": "Io3dUQzaPnPc"
      },
      "source": [
        "from tensorflow.keras.layers import Layer\n",
        "\n",
        "class Linear(Layer):\n",
        "\n",
        "  def __init__(self, units=32):\n",
        "      super(Linear, self).__init__()\n",
        "      self.units = units\n",
        "\n",
        "  # Poids et biais\n",
        "  def build(self, input_shape):\n",
        "      self.w = self.add_weight(shape=(input_shape[-1], self.units),\n",
        "                               initializer='random_normal',\n",
        "                               trainable=True)\n",
        "      self.b = self.add_weight(shape=(self.units,),\n",
        "                               initializer='random_normal',\n",
        "                               trainable=True)\n",
        "\n",
        "  # Calcul effectué par la couche\n",
        "  def call(self, inputs):\n",
        "      return tf.matmul(inputs, self.w) + self.b"
      ],
      "execution_count": null,
      "outputs": []
    },
    {
      "cell_type": "code",
      "metadata": {
        "id": "u3rnu6S02pHl",
        "outputId": "2834fa4d-73e6-4d75-e2be-236233d2d660"
      },
      "source": [
        "# On instancie un objet\n",
        "MyLayer = Linear(8)\n",
        "\n",
        "# On utilise l'instance comme une fonction\n",
        "y = MyLayer(tf.ones((2, 3)))\n",
        "print(y)"
      ],
      "execution_count": null,
      "outputs": [
        {
          "name": "stdout",
          "output_type": "stream",
          "text": [
            "tf.Tensor(\n",
            "[[-0.052572    0.10351592 -0.07859853 -0.00373217  0.15328375  0.03951474\n",
            "  -0.08116271  0.04891318]\n",
            " [-0.052572    0.10351592 -0.07859853 -0.00373217  0.15328375  0.03951474\n",
            "  -0.08116271  0.04891318]], shape=(2, 8), dtype=float32)\n"
          ]
        }
      ]
    },
    {
      "cell_type": "markdown",
      "metadata": {
        "id": "MXqpznsxBaCC"
      },
      "source": [
        "L'évolution des poids est automatiquement effecutée à l'aide de la propriété `weights` de la classe `Layer`. "
      ]
    },
    {
      "cell_type": "code",
      "metadata": {
        "id": "j_FaUtEYBeJw"
      },
      "source": [
        "assert MyLayer.weights == [MyLayer.w, MyLayer.b]"
      ],
      "execution_count": null,
      "outputs": []
    },
    {
      "cell_type": "markdown",
      "metadata": {
        "id": "5YmY3fdo2pHp"
      },
      "source": [
        "Les poids peuvent de plus être modifiés ou non pendant l'entraînement. Pour cela, ils sont tagués (booléen `trainable`) et rangés dans des catégories `trainable_weights` et `non_trainable_weights`. Pour déclarer une variable non entraînable, on écrit par exemple dans `__init__` :\n",
        "\n",
        "`self.myvar = tf.Variable(initial_value=tf.zeros((input_dim,)),trainable=False)`"
      ]
    },
    {
      "cell_type": "markdown",
      "metadata": {
        "id": "6oBkX6ZfYO8j"
      },
      "source": [
        "## Composition de couches\n",
        "Les couches peuvent être récursivement imbriquées pour former des réseaux de plus grande taille. Chaque couche observe les poids de ses sous-couches (entraînables ou non). Pour créer un empilement de couches linéaires (PMC), on écrit par exemple (en réutilisant la classe `Linear` définie ci-dessus)"
      ]
    },
    {
      "cell_type": "code",
      "metadata": {
        "id": "N5HBH-dtYQuk",
        "outputId": "666b79dc-f79e-46ad-ba4b-69b21d4b0b23"
      },
      "source": [
        "class PMC(Layer):\n",
        "\n",
        "    def __init__(self):\n",
        "        super(PMC, self).__init__()\n",
        "        self.linear_1 = Linear(32)\n",
        "        self.linear_2 = Linear(32)\n",
        "        self.linear_3 = Linear(10)\n",
        "\n",
        "    def call(self, inputs):\n",
        "        x = self.linear_1(inputs)\n",
        "        x = tf.nn.relu(x)\n",
        "        x = self.linear_2(x)\n",
        "        x = tf.nn.relu(x)\n",
        "        return self.linear_3(x)\n",
        "\n",
        "pmc = PMC()\n",
        "\n",
        "# Le premier appel à pmc créé les poids\n",
        "y = pmc(tf.ones(shape=(3, 64)))\n",
        "\n",
        "# Weights are recursively tracked.\n",
        "print('Il y a ',len(pmc.weights),'matrices de poids dans ce pmc')"
      ],
      "execution_count": null,
      "outputs": [
        {
          "name": "stdout",
          "output_type": "stream",
          "text": [
            "Il y a  6 matrices de poids dans ce pmc\n"
          ]
        }
      ]
    },
    {
      "cell_type": "markdown",
      "metadata": {
        "id": "WavMVtXGQk-z"
      },
      "source": [
        "## Couches proposées par Keras\n",
        "\n",
        "Keras propose une grande variétés de  [couches prédéfinies](https://www.tensorflow.org/api_docs/python/tf/keras/layers/),\n",
        "\n",
        "- couches de convolution (et convolutions transposées)\n",
        "- couches de pooling (moyenne, max)\n",
        "- couches LSTM, GRU \n",
        "- couche de  BatchNorm\n",
        "- couche de Dropout\n",
        "- couche d'attention\n",
        "- ..."
      ]
    },
    {
      "cell_type": "markdown",
      "metadata": {
        "id": "A2NkTT0AQV8j"
      },
      "source": [
        "Certaines couches (par exemple `BatchNormalization` ou  `Dropout`) ont des comportements différents suivant la phase (apprentissage ou test) de l'algorithme. Il est alors nécessaire d'utiliser un booléen `training` dans la méthode `call`."
      ]
    },
    {
      "cell_type": "code",
      "metadata": {
        "id": "ysXzHB5KJiLt"
      },
      "source": [
        "from tensorflow.keras.layers import Layer\n",
        "\n",
        "class Dropout(Layer):\n",
        "  \n",
        "  def __init__(self, rate):\n",
        "    super(Dropout, self).__init__()\n",
        "    self.rate = rate\n",
        "\n",
        "  def call(self, inputs, training=None):\n",
        "    if training:\n",
        "      return tf.nn.dropout(inputs, rate=self.rate)\n",
        "    return inputs\n",
        "\n",
        "class PMCWithDropout(Layer):\n",
        "\n",
        "  def __init__(self):\n",
        "      super(PMCWithDropout, self).__init__()\n",
        "      self.linear_1 = Linear(32)\n",
        "      self.dropout = Dropout(0.5)\n",
        "      self.linear_3 = Linear(10)\n",
        "\n",
        "  def call(self, inputs, training=None):\n",
        "      x = self.linear_1(inputs)\n",
        "      x = tf.nn.relu(x)\n",
        "      x = self.dropout(x, training=training)\n",
        "      return self.linear_3(x)\n",
        "    \n",
        "pmc = PMCWithDropout()\n",
        "# Pendant la phase d'entraînement, le dropout est actif\n",
        "y_train = pmc(tf.ones((2, 2)), training=True)\n",
        "# Pendant la phase de test, le dropout est inactif\n",
        "y_test = pmc(tf.ones((2, 2)), training=False)"
      ],
      "execution_count": null,
      "outputs": []
    },
    {
      "cell_type": "markdown",
      "metadata": {
        "id": "SyC7KfV-YcYS"
      },
      "source": [
        "## Approche fonctionnelle\n",
        "Il est possible de créer un réseau de neurones à plusieurs couches, en utilisant une approche fonctionnelle, en spécifiant les unes après les autres les couches. Voici un exemple simple"
      ]
    },
    {
      "cell_type": "code",
      "metadata": {
        "id": "jiL-0N7sYc6X",
        "outputId": "6cf8aee4-9100-4fc1-e6f3-d956ce669add"
      },
      "source": [
        "# Description des entrées (taille et type) par un objet Input\n",
        "inputs = tf.keras.Input(shape=(16,))\n",
        "\n",
        "# Ajout des couches une à une, l'entrée de la couche étant la sortie de la couche précédente\n",
        "x = Linear(32)(inputs) \n",
        "x = Dropout(0.5)(x)\n",
        "outputs = Linear(10)(x)\n",
        "\n",
        "# Création du modèle à partir des couches précédentes\n",
        "model = tf.keras.Model(inputs, outputs)\n",
        "\n",
        "# Utilisation\n",
        "y = model(tf.ones((2, 16)))\n",
        "print(y.shape)"
      ],
      "execution_count": null,
      "outputs": [
        {
          "name": "stdout",
          "output_type": "stream",
          "text": [
            "(2, 10)\n"
          ]
        }
      ]
    },
    {
      "cell_type": "markdown",
      "metadata": {
        "id": "6p0KngmPTScu"
      },
      "source": [
        "## Approche séquentielle\n",
        "Dans le cas de modèles simples, Keras propose également un mode séquentiel"
      ]
    },
    {
      "cell_type": "code",
      "metadata": {
        "id": "QNhTY6frTaP2",
        "outputId": "a8b0b926-b182-4049-b39e-3b31353efc52"
      },
      "source": [
        "from tensorflow.keras import Sequential\n",
        "\n",
        "model = Sequential()\n",
        "model.add(Linear(32))\n",
        "model.add(Dropout(0.5))\n",
        "model.add(Linear(10))\n",
        "# ce qui peut s'écrire aussi model = Sequential([Linear(32), Dropout(0.5), Linear(10)])\n",
        "\n",
        "y = model(tf.ones((2, 16)))\n",
        "print(y.shape)"
      ],
      "execution_count": null,
      "outputs": [
        {
          "name": "stdout",
          "output_type": "stream",
          "text": [
            "(2, 10)\n"
          ]
        }
      ]
    },
    {
      "cell_type": "markdown",
      "metadata": {
        "id": "cydf3i_FFXlh"
      },
      "source": [
        "## Ingrédients d'un algorithmes d'apprentissage\n",
        "### Fonctions de perte\n",
        "\n",
        "Keras propose de nombreuses [fonctions de perte][https://keras.io/api/losses/]"
      ]
    },
    {
      "cell_type": "code",
      "metadata": {
        "colab": {
          "base_uri": "https://localhost:8080/",
          "height": 34
        },
        "id": "019Nm1eWFaUO",
        "outputId": "eab48b3b-8ea1-4196-d1c4-534118e040fb"
      },
      "source": [
        "bce = tf.keras.losses.BinaryCrossentropy()\n",
        "y_true = [0., 0., 1., 1.]  # Cibles\n",
        "y_pred = [1., 1., 1., 0.]  # prédictions\n",
        "loss = bce(y_true, y_pred)\n",
        "print('Entropie croisée :', loss.numpy())"
      ],
      "execution_count": null,
      "outputs": [
        {
          "name": "stdout",
          "output_type": "stream",
          "text": [
            "Entropie croisée : 11.522857\n"
          ]
        }
      ]
    },
    {
      "cell_type": "code",
      "metadata": {
        "id": "L7YTeLOr2pH1"
      },
      "source": [
        ""
      ],
      "execution_count": null,
      "outputs": []
    },
    {
      "cell_type": "markdown",
      "metadata": {
        "id": "CEP7jzC8YVWy"
      },
      "source": [
        "Parfois (en particulier pour les régularisations), la fonction de perte doit être calculée à chaque étape de la passe avant. Keras permet de garder trace de l'évolution de la fonction de perte via la méthode `add_loss`.\n",
        "Si l'on soutaite par exemple ajouter un terme de régularisation basé sur la norme L2 des entrées, on écrira"
      ]
    },
    {
      "cell_type": "code",
      "metadata": {
        "id": "LbBVP--jYgHg"
      },
      "source": [
        "from tensorflow.keras.layers import Layer\n",
        "\n",
        "class L2InputRegularization(Layer):\n",
        "  \n",
        "  def __init__(self, rate=1e-2):\n",
        "    super(L2InputRegularization, self).__init__()\n",
        "    self.rate = rate\n",
        "  \n",
        "  def call(self, inputs):\n",
        "    # la fonction de perte dépend des entrées\n",
        "    self.add_loss(self.rate * tf.reduce_sum(tf.square(inputs)))\n",
        "    return inputs"
      ],
      "execution_count": null,
      "outputs": []
    },
    {
      "cell_type": "markdown",
      "metadata": {
        "id": "m4qoQk7abK5v"
      },
      "source": [
        "Les valeurs de la fonction de perte peuvent alors être récupérées par la propriété `.losses` de n'importe quelle couche ou modèle"
      ]
    },
    {
      "cell_type": "code",
      "metadata": {
        "colab": {
          "base_uri": "https://localhost:8080/",
          "height": 34
        },
        "id": "VlJc_4pbbQ2N",
        "outputId": "2f6184cd-de27-424f-e5ff-5dded3171c54"
      },
      "source": [
        "from tensorflow.keras import layers\n",
        "\n",
        "class PMCRegularise(Layer):\n",
        "\n",
        "  def __init__(self, output_dim):\n",
        "      super(PMCRegularise, self).__init__()\n",
        "      self.dense_1 = layers.Dense(32, activation=tf.nn.relu)\n",
        "      self.regularization = L2InputRegularization(1e-2)\n",
        "      self.dense_2 = layers.Dense(output_dim)\n",
        "\n",
        "  def call(self, inputs):\n",
        "      x = self.dense_1(inputs)\n",
        "      x = self.regularization(x)\n",
        "      return self.dense_2(x)\n",
        "    \n",
        "\n",
        "pmcr = PMCRegularise(1)\n",
        "y = pmcr(tf.ones((10, 10)))\n",
        "\n",
        "print(pmcr.losses)  "
      ],
      "execution_count": null,
      "outputs": [
        {
          "name": "stdout",
          "output_type": "stream",
          "text": [
            "[<tf.Tensor: shape=(), dtype=float32, numpy=0.43419695>]\n"
          ]
        }
      ]
    },
    {
      "cell_type": "markdown",
      "metadata": {
        "id": "jkI3GA2TbWvY"
      },
      "source": [
        "`layer.losses` contient les valeurs de la fonction de perte créées dans la dernière passe avant (pas d'accumulation). Pour les utiliser pendant la phase d'entraînement, on peut donc être amené à les sommer."
      ]
    },
    {
      "cell_type": "code",
      "metadata": {
        "colab": {
          "base_uri": "https://localhost:8080/",
          "height": 187
        },
        "id": "2m0xNYGEbZe2",
        "outputId": "fc92d76c-632c-4cbe-b3c9-06ca10e06f04"
      },
      "source": [
        "# Exemple de jeu de données (MNIST)\n",
        "(x_train, y_train), _ = tf.keras.datasets.mnist.load_data()\n",
        "dataset = tf.data.Dataset.from_tensor_slices(\n",
        "    (x_train.reshape(60000, 784).astype('float32') / 255, y_train))\n",
        "dataset = dataset.shuffle(buffer_size=1024).batch(64)\n",
        "\n",
        "pmcr = PMCRegularise(10)\n",
        "loss_fn = tf.keras.losses.SparseCategoricalCrossentropy(from_logits=True)\n",
        "optimizer = tf.keras.optimizers.SGD(learning_rate=0.1)\n",
        "\n",
        "for step, (x, y) in enumerate(dataset):\n",
        "  with tf.GradientTape() as tape:\n",
        "    # passe avant\n",
        "    logits = pmcr(x)\n",
        "\n",
        "    # perte pour ce batch\n",
        "    loss = loss_fn(y, logits)\n",
        "    \n",
        "    # On y ajoute la perte calculée pendant la passe avant\n",
        "    loss += sum(pmcr.losses)\n",
        "     \n",
        "    # gradient de la perte par rapport aux poids\n",
        "    gradients = tape.gradient(loss, pmcr.trainable_weights)\n",
        "  \n",
        "  # Mise à jour\n",
        "  optimizer.apply_gradients(zip(gradients, pmcr.trainable_weights))\n",
        "  \n",
        "  # Logging.\n",
        "  if step % 100 == 0:\n",
        "    print('Etape  %d, perte : %.3f' % (step, loss))"
      ],
      "execution_count": null,
      "outputs": [
        {
          "name": "stdout",
          "output_type": "stream",
          "text": [
            "Etape  0, perte : 4.364\n",
            "Etape  100, perte : 2.299\n",
            "Etape  200, perte : 2.281\n",
            "Etape  300, perte : 2.249\n",
            "Etape  400, perte : 2.166\n",
            "Etape  500, perte : 2.116\n",
            "Etape  600, perte : 1.954\n",
            "Etape  700, perte : 2.018\n",
            "Etape  800, perte : 1.844\n",
            "Etape  900, perte : 1.901\n"
          ]
        }
      ]
    },
    {
      "cell_type": "markdown",
      "metadata": {
        "id": "RNLZsnswFbE_"
      },
      "source": [
        "### Métriques\n",
        "\n",
        "De même, l'API propose de nombreuses [métriques][https://keras.io/api/metrics/]. La mise à jour d'une métrique s'effectue à l'aide de la méthode `update_state`, et l'accès à la valeur s'effectue par la propriété `result"
      ]
    },
    {
      "cell_type": "code",
      "metadata": {
        "colab": {
          "base_uri": "https://localhost:8080/",
          "height": 51
        },
        "id": "4dUZkMWATKMC",
        "outputId": "3582b3a1-ed2a-4796-8745-b6d80e323cf2"
      },
      "source": [
        "m = tf.keras.metrics.Recall()\n",
        "m.update_state([0, 1, 1, 1], [0, 1, 0, 0])\n",
        "print('Résultat intermédiaire :', m.result().numpy())\n",
        "\n",
        "m.update_state([1, 1, 1, 1], [0, 1, 1, 0])\n",
        "print('Résultat final :', m.result().numpy())"
      ],
      "execution_count": null,
      "outputs": [
        {
          "name": "stdout",
          "output_type": "stream",
          "text": [
            "Résultat intermédiaire : 0.33333334\n",
            "Résultat final : 0.42857143\n"
          ]
        }
      ]
    },
    {
      "cell_type": "markdown",
      "metadata": {
        "id": "uwx7DjFBZ-C-"
      },
      "source": [
        "Il est possible de définir sa propre métrique (parfois très utile) en surchargeant la class  `Metric`. Pour cela il faut \n",
        "\n",
        "- Créer les variables d'état dans  `__init__`\n",
        "- Mettre à jour les variables étant données `y_true` and `y_pred` dans `update_state`\n",
        "- Renvoyer le résultat dans  `result`\n",
        "- effacer l'état courant avec  `reset_states`\n",
        "\n",
        "Et par exemple :"
      ]
    },
    {
      "cell_type": "code",
      "metadata": {
        "colab": {
          "base_uri": "https://localhost:8080/",
          "height": 51
        },
        "id": "vVByLrJyaBx_",
        "outputId": "b6948c78-c748-4bd2-ce79-8451a0756890"
      },
      "source": [
        "class BinaryTruePositives(tf.keras.metrics.Metric):\n",
        "\n",
        "  def __init__(self, name='binary_true_positives', **kwargs):\n",
        "    super(BinaryTruePositives, self).__init__(name=name, **kwargs)\n",
        "    self.true_positives = self.add_weight(name='tp', initializer='zeros')\n",
        "\n",
        "  def update_state(self, y_true, y_pred, sample_weight=None):\n",
        "    y_true = tf.cast(y_true, tf.bool)\n",
        "    y_pred = tf.cast(y_pred, tf.bool)\n",
        "\n",
        "    values = tf.logical_and(tf.equal(y_true, True), tf.equal(y_pred, True))\n",
        "    values = tf.cast(values, self.dtype)\n",
        "    if sample_weight is not None:\n",
        "      sample_weight = tf.cast(sample_weight, self.dtype)\n",
        "      values = tf.multiply(values, sample_weight)\n",
        "    self.true_positives.assign_add(tf.reduce_sum(values))\n",
        "\n",
        "  def result(self):\n",
        "    return self.true_positives\n",
        "\n",
        "  def reset_states(self):\n",
        "    self.true_positive.assign(0)\n",
        "\n",
        "m = BinaryTruePositives()\n",
        "m.update_state([0, 1, 1, 1], [0, 1, 0, 0])\n",
        "print('Résultat intermédiaire:', m.result().numpy())\n",
        "\n",
        "m.update_state([1, 1, 1, 1], [0, 1, 1, 0])\n",
        "print('Résultat final :', m.result().numpy())"
      ],
      "execution_count": null,
      "outputs": [
        {
          "name": "stdout",
          "output_type": "stream",
          "text": [
            "Résultat intermédiaire: 1.0\n",
            "Résultat final : 3.0\n"
          ]
        }
      ]
    },
    {
      "cell_type": "markdown",
      "metadata": {
        "id": "i0PdvHdAdQl0"
      },
      "source": [
        "### Optimiseurs\n",
        "\n",
        "Les [optimiseurs][https://keras.io/api/optimizers/] ... optimisent la métrique lors de la phase d'apprentissage. Une fois le modèle créé, la fonction de perte définie, l'optimiseur est déclaré (par exemple `optimizer = tf.keras.optimizers.Adam()`) et utilisé dans la phase d'apprentissage\n",
        "\n"
      ]
    },
    {
      "cell_type": "markdown",
      "metadata": {
        "id": "DNTEHsf42pIL"
      },
      "source": [
        "## Un exemple complet\n",
        "Pour résumer, voici un exemple complet de classification des données MNIST."
      ]
    },
    {
      "cell_type": "code",
      "metadata": {
        "colab": {
          "base_uri": "https://localhost:8080/",
          "height": 527
        },
        "id": "4jNl1ykEdkj8",
        "outputId": "e677e575-391d-4d25-fb74-cb76e77163bd"
      },
      "source": [
        "from tensorflow.keras import layers\n",
        "\n",
        "# Données MNIST\n",
        "(x_train, y_train), (x_test, y_test) = tf.keras.datasets.mnist.load_data()\n",
        "x_train = x_train[:].reshape(60000, 784).astype('float32') / 255\n",
        "\n",
        "# Utilisation d'un objet tf.data.Dataset pour une manipulation plus facile des itérations de l'entraînement\n",
        "dataset = tf.data.Dataset.from_tensor_slices((x_train, y_train))\n",
        "dataset = dataset.shuffle(buffer_size=1024).batch(64)\n",
        "\n",
        "# Modèle simple de classification : utilisation de l'approche séquentielle\n",
        "model = tf.keras.Sequential([\n",
        "  layers.Dense(256, activation=tf.nn.relu),\n",
        "  layers.Dense(256, activation=tf.nn.relu),\n",
        "  layers.Dense(10)\n",
        "])\n",
        "\n",
        "# Fonction de perte\n",
        "loss = tf.keras.losses.SparseCategoricalCrossentropy(from_logits=True)\n",
        "\n",
        "# Métrique\n",
        "accuracy = tf.keras.metrics.SparseCategoricalAccuracy()\n",
        "\n",
        "# Optimiseur \n",
        "optimizer = tf.keras.optimizers.Adam()\n",
        "\n",
        "# Boucle d'apprentissage\n",
        "for step, (x, y) in enumerate(dataset):\n",
        "  # Ouverture d'un GradientTape.\n",
        "  with tf.GradientTape() as tape:\n",
        "\n",
        "    # Passe avant.\n",
        "    logits = model(x)\n",
        "\n",
        "    # Perte pour le batch courant\n",
        "    loss_value = loss(y, logits)\n",
        "     \n",
        "  # Dradients\n",
        "  gradients = tape.gradient(loss_value, model.trainable_weights)\n",
        "  \n",
        "  # Mise à jour des poids.\n",
        "  optimizer.apply_gradients(zip(gradients, model.trainable_weights))\n",
        "\n",
        "  # Mise à jour de la précision.\n",
        "  accuracy.update_state(y, logits)\n",
        "  \n",
        "  # Logging.\n",
        "  if step % 100 == 0:\n",
        "    print('Iter %d Précision: %.3f' % (step,accuracy.result()))"
      ],
      "execution_count": null,
      "outputs": [
        {
          "name": "stdout",
          "output_type": "stream",
          "text": [
            "Iter 0 Précision: 0.062\n",
            "Iter 100 Précision: 0.834\n",
            "Iter 200 Précision: 0.874\n",
            "Iter 300 Précision: 0.893\n",
            "Iter 400 Précision: 0.906\n",
            "Iter 500 Précision: 0.914\n",
            "Iter 600 Précision: 0.921\n",
            "Iter 700 Précision: 0.926\n",
            "Iter 800 Précision: 0.930\n",
            "Iter 900 Précision: 0.933\n"
          ]
        }
      ]
    },
    {
      "cell_type": "code",
      "metadata": {
        "colab": {
          "base_uri": "https://localhost:8080/",
          "height": 34
        },
        "id": "sl6FKvqbeqX9",
        "outputId": "3fe7670e-ee9e-40d0-ac23-2a699b5d0858"
      },
      "source": [
        "x_test = x_test[:].reshape(10000, 784).astype('float32') / 255\n",
        "test_dataset = tf.data.Dataset.from_tensor_slices((x_test, y_test))\n",
        "test_dataset = test_dataset.batch(128)\n",
        "\n",
        "accuracy.reset_states()  # This clears the internal state of the metric\n",
        "\n",
        "for step, (x, y) in enumerate(test_dataset):\n",
        "  logits = model(x)\n",
        "  accuracy.update_state(y, logits)\n",
        "\n",
        "print('Précision ensemble de test : %.3f' % accuracy.result())"
      ],
      "execution_count": null,
      "outputs": [
        {
          "name": "stdout",
          "output_type": "stream",
          "text": [
            "Précision ensemble de test : 0.089\n"
          ]
        }
      ]
    },
    {
      "cell_type": "code",
      "metadata": {
        "colab": {
          "base_uri": "https://localhost:8080/",
          "height": 189
        },
        "id": "EJ1FsUSWYsnK",
        "outputId": "e1380429-dd7d-4c45-e859-fe528da4ab13"
      },
      "source": [
        "X=[[0,0],[0,1],[1,0],[1,1]]\n",
        "print(X.shape())"
      ],
      "execution_count": null,
      "outputs": [
        {
          "ename": "AttributeError",
          "evalue": "ignored",
          "output_type": "error",
          "traceback": [
            "\u001b[0;31m---------------------------------------------------------------------------\u001b[0m",
            "\u001b[0;31mAttributeError\u001b[0m                            Traceback (most recent call last)",
            "\u001b[0;32m<ipython-input-9-f6cda6dd7bc5>\u001b[0m in \u001b[0;36m<module>\u001b[0;34m()\u001b[0m\n\u001b[1;32m      1\u001b[0m \u001b[0mX\u001b[0m\u001b[0;34m=\u001b[0m\u001b[0;34m[\u001b[0m\u001b[0;34m[\u001b[0m\u001b[0;36m0\u001b[0m\u001b[0;34m,\u001b[0m\u001b[0;36m0\u001b[0m\u001b[0;34m]\u001b[0m\u001b[0;34m,\u001b[0m\u001b[0;34m[\u001b[0m\u001b[0;36m0\u001b[0m\u001b[0;34m,\u001b[0m\u001b[0;36m1\u001b[0m\u001b[0;34m]\u001b[0m\u001b[0;34m,\u001b[0m\u001b[0;34m[\u001b[0m\u001b[0;36m1\u001b[0m\u001b[0;34m,\u001b[0m\u001b[0;36m0\u001b[0m\u001b[0;34m]\u001b[0m\u001b[0;34m,\u001b[0m\u001b[0;34m[\u001b[0m\u001b[0;36m1\u001b[0m\u001b[0;34m,\u001b[0m\u001b[0;36m1\u001b[0m\u001b[0;34m]\u001b[0m\u001b[0;34m]\u001b[0m\u001b[0;34m\u001b[0m\u001b[0;34m\u001b[0m\u001b[0m\n\u001b[0;32m----> 2\u001b[0;31m \u001b[0mprint\u001b[0m\u001b[0;34m(\u001b[0m\u001b[0mX\u001b[0m\u001b[0;34m.\u001b[0m\u001b[0mshape\u001b[0m\u001b[0;34m(\u001b[0m\u001b[0;34m)\u001b[0m\u001b[0;34m)\u001b[0m\u001b[0;34m\u001b[0m\u001b[0;34m\u001b[0m\u001b[0m\n\u001b[0m",
            "\u001b[0;31mAttributeError\u001b[0m: 'list' object has no attribute 'shape'"
          ]
        }
      ]
    },
    {
      "cell_type": "markdown",
      "metadata": {
        "id": "7V0yRrfYFuVT"
      },
      "source": [
        "## Boucle d'apprentissage\n",
        "Keras propose d'implémenter la boucle d'apprentissage, et d'éviter d'écrire la boucle sur les epochs et sur les batchs. Une fois l'optimiseur, la métrique et la fonction de perte définis, la méthode `compile` permet de configurer ces éléments dans le modèle\n"
      ]
    },
    {
      "cell_type": "code",
      "metadata": {
        "id": "Eo6GhvzjJjdb"
      },
      "source": [
        "model.compile(optimizer=optimizer, loss=loss, metrics=[accuracy])"
      ],
      "execution_count": null,
      "outputs": []
    },
    {
      "cell_type": "markdown",
      "metadata": {
        "id": "98zDjMPej06U"
      },
      "source": [
        "L'ensemble de ces caractéristiques permet alors d'entraîner le modèle, par un simple appel à la méthode  `fit` (qui utilise par défaut des graphes de flux)"
      ]
    },
    {
      "cell_type": "code",
      "metadata": {
        "colab": {
          "base_uri": "https://localhost:8080/",
          "height": 136
        },
        "id": "-OdztL4nj4ed",
        "outputId": "fb846f67-007e-417f-de4a-6d97bc1c0fc0"
      },
      "source": [
        "model.fit(dataset, epochs=3)\n",
        "# Il est également possible de faire un fit directement sur les tableaux numpy : \n",
        "#model.fit(x_train, y_train,\n",
        "#         epochs=3,\n",
        "#          batch_size=64)"
      ],
      "execution_count": null,
      "outputs": [
        {
          "name": "stdout",
          "output_type": "stream",
          "text": [
            "Epoch 1/3\n",
            "938/938 [==============================] - 9s 10ms/step - loss: 0.2160 - sparse_categorical_accuracy: 0.9370\n",
            "Epoch 2/3\n",
            "938/938 [==============================] - 6s 6ms/step - loss: 0.0831 - sparse_categorical_accuracy: 0.9745\n",
            "Epoch 3/3\n",
            "938/938 [==============================] - 6s 6ms/step - loss: 0.0571 - sparse_categorical_accuracy: 0.9817\n"
          ]
        },
        {
          "data": {
            "text/plain": [
              "<tensorflow.python.keras.callbacks.History at 0x7f9a4fcba0f0>"
            ]
          },
          "execution_count": 17,
          "metadata": {
            "tags": []
          },
          "output_type": "execute_result"
        }
      ]
    },
    {
      "cell_type": "markdown",
      "metadata": {
        "id": "Hf1ADk-Q2pIP"
      },
      "source": [
        "Une fois le modèle entraîné, il est possible d'évaluer sa précision sur l'ensemble de test par un appel à la méthode `evaluate`"
      ]
    },
    {
      "cell_type": "code",
      "metadata": {
        "colab": {
          "base_uri": "https://localhost:8080/",
          "height": 51
        },
        "id": "d0-XQbxOlqB3",
        "outputId": "57d444b1-4aaf-4222-db16-79059fc5d433"
      },
      "source": [
        "x_test = x_test[:].reshape(10000, 784).astype('float32') / 255\n",
        "test_dataset = tf.data.Dataset.from_tensor_slices((x_test, y_test))\n",
        "test_dataset = test_dataset.batch(128)\n",
        "\n",
        "loss, acc = model.evaluate(test_dataset)\n",
        "print('Perte : %.3f \\t Précision : %.3f' % (loss, acc))"
      ],
      "execution_count": null,
      "outputs": [
        {
          "name": "stdout",
          "output_type": "stream",
          "text": [
            "79/79 [==============================] - 0s 5ms/step - loss: 0.0853 - sparse_categorical_accuracy: 0.9756\n",
            "loss: 0.085 - acc: 0.976\n"
          ]
        }
      ]
    },
    {
      "cell_type": "markdown",
      "metadata": {
        "id": "DkmbEn55nV7y"
      },
      "source": [
        "Et l'exemple global sur les données MNIST devient "
      ]
    },
    {
      "cell_type": "code",
      "metadata": {
        "colab": {
          "base_uri": "https://localhost:8080/",
          "height": 153
        },
        "id": "7q8UuNivngVe",
        "outputId": "eff099ad-5f71-45a1-a499-3bda510eba60"
      },
      "source": [
        "(x_train, y_train), (x_test, y_test) = tf.keras.datasets.mnist.load_data()\n",
        "x_train = x_train.reshape(60000, 784).astype('float32') / 255\n",
        "\n",
        "num_val_samples = 10000\n",
        "x_val = x_train[-num_val_samples:]\n",
        "y_val = y_train[-num_val_samples:]\n",
        "x_train = x_train[:-num_val_samples]\n",
        "y_train = y_train[:-num_val_samples]\n",
        "\n",
        "# Instantiate a simple classification model\n",
        "model = tf.keras.Sequential([\n",
        "  layers.Dense(256, activation=tf.nn.relu),\n",
        "  layers.Dense(256, activation=tf.nn.relu),\n",
        "  layers.Dense(10)\n",
        "])\n",
        "\n",
        "# Instantiate a logistic loss function that expects integer targets.\n",
        "loss = tf.keras.losses.SparseCategoricalCrossentropy(from_logits=True)\n",
        "\n",
        "# Instantiate an accuracy metric.\n",
        "accuracy = tf.keras.metrics.SparseCategoricalAccuracy()\n",
        "\n",
        "# Instantiate an optimizer.\n",
        "optimizer = tf.keras.optimizers.Adam()\n",
        "\n",
        "model.compile(optimizer=optimizer,\n",
        "              loss=loss,\n",
        "              metrics=[accuracy])\n",
        "model.fit(x_train, y_train,\n",
        "          validation_data=(x_val, y_val),\n",
        "          epochs=3,\n",
        "          batch_size=64)\n",
        "\n",
        "x_test = x_test[:].reshape(10000, 784).astype('float32') / 255\n",
        "test_dataset = tf.data.Dataset.from_tensor_slices((x_test, y_test))\n",
        "test_dataset = test_dataset.batch(128)\n",
        "\n",
        "loss, acc = model.evaluate(test_dataset)\n",
        "print('Sur l ensemble de test : Perte : %.3f \\t Précision : %.3f' % (loss, acc))"
      ],
      "execution_count": null,
      "outputs": [
        {
          "name": "stdout",
          "output_type": "stream",
          "text": [
            "Epoch 1/3\n",
            "782/782 [==============================] - 1s 2ms/step - loss: 0.2452 - sparse_categorical_accuracy: 0.9272 - val_loss: 0.1248 - val_sparse_categorical_accuracy: 0.9602\n",
            "Epoch 2/3\n",
            "782/782 [==============================] - 1s 1ms/step - loss: 0.0961 - sparse_categorical_accuracy: 0.9709 - val_loss: 0.0916 - val_sparse_categorical_accuracy: 0.9729\n",
            "Epoch 3/3\n",
            "782/782 [==============================] - 1s 2ms/step - loss: 0.0606 - sparse_categorical_accuracy: 0.9803 - val_loss: 0.0876 - val_sparse_categorical_accuracy: 0.9753\n",
            "79/79 [==============================] - 0s 1ms/step - loss: 0.0825 - sparse_categorical_accuracy: 0.9745\n",
            "Perte : 0.083 \t Précision : 0.975\n"
          ]
        }
      ]
    },
    {
      "cell_type": "markdown",
      "metadata": {
        "id": "88ExjKfCo7aP"
      },
      "source": [
        "\n",
        "## Callbacks\n",
        "\n",
        "En utilisant la méthode compile/fit, il est possible de contrôler ce qui se passe durant l'entraînement, en utilisant des [callbacks](https://www.tensorflow.org/api_docs/python/tf/keras/callbacks/). Un callback est un objet appelé à diverses phases de l'entraînement (à la fin de la présentation d'un batch, à la fin d'une epoch), et permettant :\n",
        "- de contrôler l'entraînement (early stopping, décroissance du learning rate..)\n",
        "- de sauver un modèle\n",
        "- ...\n",
        "Il existe de nombreux callbacks disponibles sous Keras, et il est même possible d'écrire ses propres objets.\n",
        "\n",
        "Si on veut pouvoir éviter le sur apprentissage, il est possible d'utiliser la technique du Early Stopping, en appelant le callback approprié. Dans l'exemple qui suit, on utilise cette stratégie, couplée à la sauvegarde automatique du meilleur des modèles entraîné."
      ]
    },
    {
      "cell_type": "code",
      "metadata": {
        "colab": {
          "base_uri": "https://localhost:8080/",
          "height": 153
        },
        "id": "oAylVdYJqcZ3",
        "outputId": "17476dc4-d3b6-4732-a07c-ca0ae6a61148"
      },
      "source": [
        "\n",
        "model = tf.keras.Sequential([\n",
        "  layers.Dense(256, activation=tf.nn.relu),\n",
        "  layers.Dense(256, activation=tf.nn.relu),\n",
        "  layers.Dense(10)\n",
        "])\n",
        "\n",
        "\n",
        "loss = tf.keras.losses.SparseCategoricalCrossentropy(from_logits=True)\n",
        "accuracy = tf.keras.metrics.sparse_categorical_accuracy\n",
        "optimizer = tf.keras.optimizers.Adam()\n",
        "\n",
        "model.compile(optimizer=optimizer,loss=loss,metrics=[accuracy])\n",
        "\n",
        "callbacks = [tf.keras.callbacks.EarlyStopping(),\n",
        "             tf.keras.callbacks.ModelCheckpoint(filepath='bestModel',save_best_only=True)]\n",
        "\n",
        "model.fit(x_train, y_train,epochs=30,batch_size=64,callbacks=callbacks)"
      ],
      "execution_count": null,
      "outputs": [
        {
          "name": "stdout",
          "output_type": "stream",
          "text": [
            "Epoch 1/30\n",
            "753/782 [===========================>..] - ETA: 0s - loss: 0.2436 - sparse_categorical_accuracy: 0.9279WARNING:tensorflow:Early stopping conditioned on metric `val_loss` which is not available. Available metrics are: loss,sparse_categorical_accuracy\n",
            "WARNING:tensorflow:Can save best model only with val_loss available, skipping.\n",
            "782/782 [==============================] - 1s 2ms/step - loss: 0.2404 - sparse_categorical_accuracy: 0.9287\n",
            "Epoch 2/30\n",
            "770/782 [============================>.] - ETA: 0s - loss: 0.0928 - sparse_categorical_accuracy: 0.9713WARNING:tensorflow:Early stopping conditioned on metric `val_loss` which is not available. Available metrics are: loss,sparse_categorical_accuracy\n",
            "WARNING:tensorflow:Can save best model only with val_loss available, skipping.\n",
            "782/782 [==============================] - 1s 2ms/step - loss: 0.0929 - sparse_categorical_accuracy: 0.9713\n",
            "Epoch 3/30\n",
            "774/782 [============================>.] - ETA: 0s - loss: 0.0599 - sparse_categorical_accuracy: 0.9814WARNING:tensorflow:Early stopping conditioned on metric `val_loss` which is not available. Available metrics are: loss,sparse_categorical_accuracy\n",
            "WARNING:tensorflow:Can save best model only with val_loss available, skipping.\n",
            "782/782 [==============================] - 1s 2ms/step - loss: 0.0602 - sparse_categorical_accuracy: 0.9813\n",
            "Epoch 4/30\n",
            "764/782 [============================>.] - ETA: 0s - loss: 0.0419 - sparse_categorical_accuracy: 0.9870WARNING:tensorflow:Early stopping conditioned on metric `val_loss` which is not available. Available metrics are: loss,sparse_categorical_accuracy\n",
            "WARNING:tensorflow:Can save best model only with val_loss available, skipping.\n",
            "782/782 [==============================] - 1s 2ms/step - loss: 0.0419 - sparse_categorical_accuracy: 0.9870\n",
            "Epoch 5/30\n",
            "765/782 [============================>.] - ETA: 0s - loss: 0.0327 - sparse_categorical_accuracy: 0.9897WARNING:tensorflow:Early stopping conditioned on metric `val_loss` which is not available. Available metrics are: loss,sparse_categorical_accuracy\n",
            "WARNING:tensorflow:Can save best model only with val_loss available, skipping.\n",
            "782/782 [==============================] - 1s 2ms/step - loss: 0.0329 - sparse_categorical_accuracy: 0.9897\n",
            "Epoch 6/30\n",
            "771/782 [============================>.] - ETA: 0s - loss: 0.0285 - sparse_categorical_accuracy: 0.9907WARNING:tensorflow:Early stopping conditioned on metric `val_loss` which is not available. Available metrics are: loss,sparse_categorical_accuracy\n",
            "WARNING:tensorflow:Can save best model only with val_loss available, skipping.\n",
            "782/782 [==============================] - 2s 2ms/step - loss: 0.0286 - sparse_categorical_accuracy: 0.9906\n",
            "Epoch 7/30\n",
            "780/782 [============================>.] - ETA: 0s - loss: 0.0229 - sparse_categorical_accuracy: 0.9925WARNING:tensorflow:Early stopping conditioned on metric `val_loss` which is not available. Available metrics are: loss,sparse_categorical_accuracy\n",
            "WARNING:tensorflow:Can save best model only with val_loss available, skipping.\n",
            "782/782 [==============================] - 1s 2ms/step - loss: 0.0229 - sparse_categorical_accuracy: 0.9925\n",
            "Epoch 8/30\n",
            "469/782 [================>.............] - ETA: 0s - loss: 0.0179 - sparse_categorical_accuracy: 0.9935"
          ]
        },
        {
          "ename": "KeyboardInterrupt",
          "evalue": "",
          "output_type": "error",
          "traceback": [
            "\u001b[0;31m---------------------------------------------------------------------------\u001b[0m",
            "\u001b[0;31mKeyboardInterrupt\u001b[0m                         Traceback (most recent call last)",
            "\u001b[0;32m<ipython-input-115-b84dc6e64380>\u001b[0m in \u001b[0;36m<module>\u001b[0;34m\u001b[0m\n\u001b[1;32m     15\u001b[0m              tf.keras.callbacks.ModelCheckpoint(filepath='bestModel',save_best_only=True)]\n\u001b[1;32m     16\u001b[0m \u001b[0;34m\u001b[0m\u001b[0m\n\u001b[0;32m---> 17\u001b[0;31m \u001b[0mmodel\u001b[0m\u001b[0;34m.\u001b[0m\u001b[0mfit\u001b[0m\u001b[0;34m(\u001b[0m\u001b[0mx_train\u001b[0m\u001b[0;34m,\u001b[0m \u001b[0my_train\u001b[0m\u001b[0;34m,\u001b[0m\u001b[0mepochs\u001b[0m\u001b[0;34m=\u001b[0m\u001b[0;36m30\u001b[0m\u001b[0;34m,\u001b[0m\u001b[0mbatch_size\u001b[0m\u001b[0;34m=\u001b[0m\u001b[0;36m64\u001b[0m\u001b[0;34m,\u001b[0m\u001b[0mcallbacks\u001b[0m\u001b[0;34m=\u001b[0m\u001b[0mcallbacks\u001b[0m\u001b[0;34m)\u001b[0m\u001b[0;34m\u001b[0m\u001b[0;34m\u001b[0m\u001b[0m\n\u001b[0m",
            "\u001b[0;32m/usr/local/lib/python3.8/site-packages/tensorflow/python/keras/engine/training.py\u001b[0m in \u001b[0;36m_method_wrapper\u001b[0;34m(self, *args, **kwargs)\u001b[0m\n\u001b[1;32m    106\u001b[0m   \u001b[0;32mdef\u001b[0m \u001b[0m_method_wrapper\u001b[0m\u001b[0;34m(\u001b[0m\u001b[0mself\u001b[0m\u001b[0;34m,\u001b[0m \u001b[0;34m*\u001b[0m\u001b[0margs\u001b[0m\u001b[0;34m,\u001b[0m \u001b[0;34m**\u001b[0m\u001b[0mkwargs\u001b[0m\u001b[0;34m)\u001b[0m\u001b[0;34m:\u001b[0m\u001b[0;34m\u001b[0m\u001b[0;34m\u001b[0m\u001b[0m\n\u001b[1;32m    107\u001b[0m     \u001b[0;32mif\u001b[0m \u001b[0;32mnot\u001b[0m \u001b[0mself\u001b[0m\u001b[0;34m.\u001b[0m\u001b[0m_in_multi_worker_mode\u001b[0m\u001b[0;34m(\u001b[0m\u001b[0;34m)\u001b[0m\u001b[0;34m:\u001b[0m  \u001b[0;31m# pylint: disable=protected-access\u001b[0m\u001b[0;34m\u001b[0m\u001b[0;34m\u001b[0m\u001b[0m\n\u001b[0;32m--> 108\u001b[0;31m       \u001b[0;32mreturn\u001b[0m \u001b[0mmethod\u001b[0m\u001b[0;34m(\u001b[0m\u001b[0mself\u001b[0m\u001b[0;34m,\u001b[0m \u001b[0;34m*\u001b[0m\u001b[0margs\u001b[0m\u001b[0;34m,\u001b[0m \u001b[0;34m**\u001b[0m\u001b[0mkwargs\u001b[0m\u001b[0;34m)\u001b[0m\u001b[0;34m\u001b[0m\u001b[0;34m\u001b[0m\u001b[0m\n\u001b[0m\u001b[1;32m    109\u001b[0m \u001b[0;34m\u001b[0m\u001b[0m\n\u001b[1;32m    110\u001b[0m     \u001b[0;31m# Running inside `run_distribute_coordinator` already.\u001b[0m\u001b[0;34m\u001b[0m\u001b[0;34m\u001b[0m\u001b[0;34m\u001b[0m\u001b[0m\n",
            "\u001b[0;32m/usr/local/lib/python3.8/site-packages/tensorflow/python/keras/engine/training.py\u001b[0m in \u001b[0;36mfit\u001b[0;34m(self, x, y, batch_size, epochs, verbose, callbacks, validation_split, validation_data, shuffle, class_weight, sample_weight, initial_epoch, steps_per_epoch, validation_steps, validation_batch_size, validation_freq, max_queue_size, workers, use_multiprocessing)\u001b[0m\n\u001b[1;32m   1096\u001b[0m                 batch_size=batch_size):\n\u001b[1;32m   1097\u001b[0m               \u001b[0mcallbacks\u001b[0m\u001b[0;34m.\u001b[0m\u001b[0mon_train_batch_begin\u001b[0m\u001b[0;34m(\u001b[0m\u001b[0mstep\u001b[0m\u001b[0;34m)\u001b[0m\u001b[0;34m\u001b[0m\u001b[0;34m\u001b[0m\u001b[0m\n\u001b[0;32m-> 1098\u001b[0;31m               \u001b[0mtmp_logs\u001b[0m \u001b[0;34m=\u001b[0m \u001b[0mtrain_function\u001b[0m\u001b[0;34m(\u001b[0m\u001b[0miterator\u001b[0m\u001b[0;34m)\u001b[0m\u001b[0;34m\u001b[0m\u001b[0;34m\u001b[0m\u001b[0m\n\u001b[0m\u001b[1;32m   1099\u001b[0m               \u001b[0;32mif\u001b[0m \u001b[0mdata_handler\u001b[0m\u001b[0;34m.\u001b[0m\u001b[0mshould_sync\u001b[0m\u001b[0;34m:\u001b[0m\u001b[0;34m\u001b[0m\u001b[0;34m\u001b[0m\u001b[0m\n\u001b[1;32m   1100\u001b[0m                 \u001b[0mcontext\u001b[0m\u001b[0;34m.\u001b[0m\u001b[0masync_wait\u001b[0m\u001b[0;34m(\u001b[0m\u001b[0;34m)\u001b[0m\u001b[0;34m\u001b[0m\u001b[0;34m\u001b[0m\u001b[0m\n",
            "\u001b[0;32m/usr/local/lib/python3.8/site-packages/tensorflow/python/eager/def_function.py\u001b[0m in \u001b[0;36m__call__\u001b[0;34m(self, *args, **kwds)\u001b[0m\n\u001b[1;32m    778\u001b[0m       \u001b[0;32melse\u001b[0m\u001b[0;34m:\u001b[0m\u001b[0;34m\u001b[0m\u001b[0;34m\u001b[0m\u001b[0m\n\u001b[1;32m    779\u001b[0m         \u001b[0mcompiler\u001b[0m \u001b[0;34m=\u001b[0m \u001b[0;34m\"nonXla\"\u001b[0m\u001b[0;34m\u001b[0m\u001b[0;34m\u001b[0m\u001b[0m\n\u001b[0;32m--> 780\u001b[0;31m         \u001b[0mresult\u001b[0m \u001b[0;34m=\u001b[0m \u001b[0mself\u001b[0m\u001b[0;34m.\u001b[0m\u001b[0m_call\u001b[0m\u001b[0;34m(\u001b[0m\u001b[0;34m*\u001b[0m\u001b[0margs\u001b[0m\u001b[0;34m,\u001b[0m \u001b[0;34m**\u001b[0m\u001b[0mkwds\u001b[0m\u001b[0;34m)\u001b[0m\u001b[0;34m\u001b[0m\u001b[0;34m\u001b[0m\u001b[0m\n\u001b[0m\u001b[1;32m    781\u001b[0m \u001b[0;34m\u001b[0m\u001b[0m\n\u001b[1;32m    782\u001b[0m       \u001b[0mnew_tracing_count\u001b[0m \u001b[0;34m=\u001b[0m \u001b[0mself\u001b[0m\u001b[0;34m.\u001b[0m\u001b[0m_get_tracing_count\u001b[0m\u001b[0;34m(\u001b[0m\u001b[0;34m)\u001b[0m\u001b[0;34m\u001b[0m\u001b[0;34m\u001b[0m\u001b[0m\n",
            "\u001b[0;32m/usr/local/lib/python3.8/site-packages/tensorflow/python/eager/def_function.py\u001b[0m in \u001b[0;36m_call\u001b[0;34m(self, *args, **kwds)\u001b[0m\n\u001b[1;32m    805\u001b[0m       \u001b[0;31m# In this case we have created variables on the first call, so we run the\u001b[0m\u001b[0;34m\u001b[0m\u001b[0;34m\u001b[0m\u001b[0;34m\u001b[0m\u001b[0m\n\u001b[1;32m    806\u001b[0m       \u001b[0;31m# defunned version which is guaranteed to never create variables.\u001b[0m\u001b[0;34m\u001b[0m\u001b[0;34m\u001b[0m\u001b[0;34m\u001b[0m\u001b[0m\n\u001b[0;32m--> 807\u001b[0;31m       \u001b[0;32mreturn\u001b[0m \u001b[0mself\u001b[0m\u001b[0;34m.\u001b[0m\u001b[0m_stateless_fn\u001b[0m\u001b[0;34m(\u001b[0m\u001b[0;34m*\u001b[0m\u001b[0margs\u001b[0m\u001b[0;34m,\u001b[0m \u001b[0;34m**\u001b[0m\u001b[0mkwds\u001b[0m\u001b[0;34m)\u001b[0m  \u001b[0;31m# pylint: disable=not-callable\u001b[0m\u001b[0;34m\u001b[0m\u001b[0;34m\u001b[0m\u001b[0m\n\u001b[0m\u001b[1;32m    808\u001b[0m     \u001b[0;32melif\u001b[0m \u001b[0mself\u001b[0m\u001b[0;34m.\u001b[0m\u001b[0m_stateful_fn\u001b[0m \u001b[0;32mis\u001b[0m \u001b[0;32mnot\u001b[0m \u001b[0;32mNone\u001b[0m\u001b[0;34m:\u001b[0m\u001b[0;34m\u001b[0m\u001b[0;34m\u001b[0m\u001b[0m\n\u001b[1;32m    809\u001b[0m       \u001b[0;31m# Release the lock early so that multiple threads can perform the call\u001b[0m\u001b[0;34m\u001b[0m\u001b[0;34m\u001b[0m\u001b[0;34m\u001b[0m\u001b[0m\n",
            "\u001b[0;32m/usr/local/lib/python3.8/site-packages/tensorflow/python/eager/function.py\u001b[0m in \u001b[0;36m__call__\u001b[0;34m(self, *args, **kwargs)\u001b[0m\n\u001b[1;32m   2827\u001b[0m     \u001b[0;32mwith\u001b[0m \u001b[0mself\u001b[0m\u001b[0;34m.\u001b[0m\u001b[0m_lock\u001b[0m\u001b[0;34m:\u001b[0m\u001b[0;34m\u001b[0m\u001b[0;34m\u001b[0m\u001b[0m\n\u001b[1;32m   2828\u001b[0m       \u001b[0mgraph_function\u001b[0m\u001b[0;34m,\u001b[0m \u001b[0margs\u001b[0m\u001b[0;34m,\u001b[0m \u001b[0mkwargs\u001b[0m \u001b[0;34m=\u001b[0m \u001b[0mself\u001b[0m\u001b[0;34m.\u001b[0m\u001b[0m_maybe_define_function\u001b[0m\u001b[0;34m(\u001b[0m\u001b[0margs\u001b[0m\u001b[0;34m,\u001b[0m \u001b[0mkwargs\u001b[0m\u001b[0;34m)\u001b[0m\u001b[0;34m\u001b[0m\u001b[0;34m\u001b[0m\u001b[0m\n\u001b[0;32m-> 2829\u001b[0;31m     \u001b[0;32mreturn\u001b[0m \u001b[0mgraph_function\u001b[0m\u001b[0;34m.\u001b[0m\u001b[0m_filtered_call\u001b[0m\u001b[0;34m(\u001b[0m\u001b[0margs\u001b[0m\u001b[0;34m,\u001b[0m \u001b[0mkwargs\u001b[0m\u001b[0;34m)\u001b[0m  \u001b[0;31m# pylint: disable=protected-access\u001b[0m\u001b[0;34m\u001b[0m\u001b[0;34m\u001b[0m\u001b[0m\n\u001b[0m\u001b[1;32m   2830\u001b[0m \u001b[0;34m\u001b[0m\u001b[0m\n\u001b[1;32m   2831\u001b[0m   \u001b[0;34m@\u001b[0m\u001b[0mproperty\u001b[0m\u001b[0;34m\u001b[0m\u001b[0;34m\u001b[0m\u001b[0m\n",
            "\u001b[0;32m/usr/local/lib/python3.8/site-packages/tensorflow/python/eager/function.py\u001b[0m in \u001b[0;36m_filtered_call\u001b[0;34m(self, args, kwargs, cancellation_manager)\u001b[0m\n\u001b[1;32m   1841\u001b[0m       \u001b[0;31m`\u001b[0m\u001b[0margs\u001b[0m\u001b[0;31m`\u001b[0m \u001b[0;32mand\u001b[0m\u001b[0;31m \u001b[0m\u001b[0;31m`\u001b[0m\u001b[0mkwargs\u001b[0m\u001b[0;31m`\u001b[0m\u001b[0;34m.\u001b[0m\u001b[0;34m\u001b[0m\u001b[0;34m\u001b[0m\u001b[0m\n\u001b[1;32m   1842\u001b[0m     \"\"\"\n\u001b[0;32m-> 1843\u001b[0;31m     return self._call_flat(\n\u001b[0m\u001b[1;32m   1844\u001b[0m         [t for t in nest.flatten((args, kwargs), expand_composites=True)\n\u001b[1;32m   1845\u001b[0m          if isinstance(t, (ops.Tensor,\n",
            "\u001b[0;32m/usr/local/lib/python3.8/site-packages/tensorflow/python/eager/function.py\u001b[0m in \u001b[0;36m_call_flat\u001b[0;34m(self, args, captured_inputs, cancellation_manager)\u001b[0m\n\u001b[1;32m   1921\u001b[0m         and executing_eagerly):\n\u001b[1;32m   1922\u001b[0m       \u001b[0;31m# No tape is watching; skip to running the function.\u001b[0m\u001b[0;34m\u001b[0m\u001b[0;34m\u001b[0m\u001b[0;34m\u001b[0m\u001b[0m\n\u001b[0;32m-> 1923\u001b[0;31m       return self._build_call_outputs(self._inference_function.call(\n\u001b[0m\u001b[1;32m   1924\u001b[0m           ctx, args, cancellation_manager=cancellation_manager))\n\u001b[1;32m   1925\u001b[0m     forward_backward = self._select_forward_and_backward_functions(\n",
            "\u001b[0;32m/usr/local/lib/python3.8/site-packages/tensorflow/python/eager/function.py\u001b[0m in \u001b[0;36mcall\u001b[0;34m(self, ctx, args, cancellation_manager)\u001b[0m\n\u001b[1;32m    543\u001b[0m       \u001b[0;32mwith\u001b[0m \u001b[0m_InterpolateFunctionError\u001b[0m\u001b[0;34m(\u001b[0m\u001b[0mself\u001b[0m\u001b[0;34m)\u001b[0m\u001b[0;34m:\u001b[0m\u001b[0;34m\u001b[0m\u001b[0;34m\u001b[0m\u001b[0m\n\u001b[1;32m    544\u001b[0m         \u001b[0;32mif\u001b[0m \u001b[0mcancellation_manager\u001b[0m \u001b[0;32mis\u001b[0m \u001b[0;32mNone\u001b[0m\u001b[0;34m:\u001b[0m\u001b[0;34m\u001b[0m\u001b[0;34m\u001b[0m\u001b[0m\n\u001b[0;32m--> 545\u001b[0;31m           outputs = execute.execute(\n\u001b[0m\u001b[1;32m    546\u001b[0m               \u001b[0mstr\u001b[0m\u001b[0;34m(\u001b[0m\u001b[0mself\u001b[0m\u001b[0;34m.\u001b[0m\u001b[0msignature\u001b[0m\u001b[0;34m.\u001b[0m\u001b[0mname\u001b[0m\u001b[0;34m)\u001b[0m\u001b[0;34m,\u001b[0m\u001b[0;34m\u001b[0m\u001b[0;34m\u001b[0m\u001b[0m\n\u001b[1;32m    547\u001b[0m               \u001b[0mnum_outputs\u001b[0m\u001b[0;34m=\u001b[0m\u001b[0mself\u001b[0m\u001b[0;34m.\u001b[0m\u001b[0m_num_outputs\u001b[0m\u001b[0;34m,\u001b[0m\u001b[0;34m\u001b[0m\u001b[0;34m\u001b[0m\u001b[0m\n",
            "\u001b[0;32m/usr/local/lib/python3.8/site-packages/tensorflow/python/eager/execute.py\u001b[0m in \u001b[0;36mquick_execute\u001b[0;34m(op_name, num_outputs, inputs, attrs, ctx, name)\u001b[0m\n\u001b[1;32m     57\u001b[0m   \u001b[0;32mtry\u001b[0m\u001b[0;34m:\u001b[0m\u001b[0;34m\u001b[0m\u001b[0;34m\u001b[0m\u001b[0m\n\u001b[1;32m     58\u001b[0m     \u001b[0mctx\u001b[0m\u001b[0;34m.\u001b[0m\u001b[0mensure_initialized\u001b[0m\u001b[0;34m(\u001b[0m\u001b[0;34m)\u001b[0m\u001b[0;34m\u001b[0m\u001b[0;34m\u001b[0m\u001b[0m\n\u001b[0;32m---> 59\u001b[0;31m     tensors = pywrap_tfe.TFE_Py_Execute(ctx._handle, device_name, op_name,\n\u001b[0m\u001b[1;32m     60\u001b[0m                                         inputs, attrs, num_outputs)\n\u001b[1;32m     61\u001b[0m   \u001b[0;32mexcept\u001b[0m \u001b[0mcore\u001b[0m\u001b[0;34m.\u001b[0m\u001b[0m_NotOkStatusException\u001b[0m \u001b[0;32mas\u001b[0m \u001b[0me\u001b[0m\u001b[0;34m:\u001b[0m\u001b[0;34m\u001b[0m\u001b[0;34m\u001b[0m\u001b[0m\n",
            "\u001b[0;31mKeyboardInterrupt\u001b[0m: "
          ]
        }
      ]
    },
    {
      "cell_type": "markdown",
      "metadata": {
        "id": "2iC2aB1L2pIV"
      },
      "source": [
        "## Chargement et sauvegarde d'un modèle\n",
        "Terminons par les méthodes permettant de charger ou sauver un modèle entraîné \n",
        "- Un appel à `model.save(nom_modele)` permet de sauver le modèle courant \n",
        "- Un appel à `model = keras.models.load_model(nom_modele)`permet de charger un modèle stocké sur disque\n",
        "\n",
        "Ce qui est sauvé / chargé : l'architecture du réseau, les poids/biais, les informations de compilation (l'optimiseur, la métrique, la fonction de perte). Deux formats sont possibles pour les fichiers modèle : le format Tensorflow `SavedModel` (par défaut), et le format `h5`\n"
      ]
    }
  ]
}